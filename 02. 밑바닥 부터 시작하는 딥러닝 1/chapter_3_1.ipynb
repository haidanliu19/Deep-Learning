{
  "nbformat": 4,
  "nbformat_minor": 0,
  "metadata": {
    "colab": {
      "name": "chapter_3_1.ipynb",
      "provenance": [],
      "collapsed_sections": []
    },
    "kernelspec": {
      "name": "python3",
      "display_name": "Python 3"
    },
    "language_info": {
      "name": "python"
    }
  },
  "cells": [
    {
      "cell_type": "markdown",
      "metadata": {
        "id": "l91ImB8pqa9g"
      },
      "source": [
        "# 손글씨 숫자 인식"
      ]
    },
    {
      "cell_type": "code",
      "metadata": {
        "id": "qJsnNk_FpyF4"
      },
      "source": [
        "import sys, os\n",
        "sys.path.append(os.pardir) # 부모 디렉터리의 파일을 가져올 수 있도록 설정"
      ],
      "execution_count": 8,
      "outputs": []
    },
    {
      "cell_type": "code",
      "metadata": {
        "colab": {
          "base_uri": "https://localhost:8080/"
        },
        "id": "2j2cZNUgsqui",
        "outputId": "f560f6db-65e1-40e9-8d9c-aaa62b64d8d9"
      },
      "source": [
        "!git clone https://github.com/WegraLee/deep-learning-from-scratch.git"
      ],
      "execution_count": 10,
      "outputs": [
        {
          "output_type": "stream",
          "text": [
            "Cloning into 'deep-learning-from-scratch'...\n",
            "remote: Enumerating objects: 826, done.\u001b[K\n",
            "remote: Total 826 (delta 0), reused 0 (delta 0), pack-reused 826\u001b[K\n",
            "Receiving objects: 100% (826/826), 52.21 MiB | 29.18 MiB/s, done.\n",
            "Resolving deltas: 100% (477/477), done.\n"
          ],
          "name": "stdout"
        }
      ]
    },
    {
      "cell_type": "code",
      "metadata": {
        "colab": {
          "base_uri": "https://localhost:8080/"
        },
        "id": "Qyi6YV3utTs0",
        "outputId": "949db309-35e3-48dc-a98a-7a263623fb38"
      },
      "source": [
        "cd deep-learning-from-scratch"
      ],
      "execution_count": 14,
      "outputs": [
        {
          "output_type": "stream",
          "text": [
            "/content/deep-learning-from-scratch\n"
          ],
          "name": "stdout"
        }
      ]
    },
    {
      "cell_type": "code",
      "metadata": {
        "id": "bRPQGdX0r26R"
      },
      "source": [
        "from dataset.mnist import load_mnist"
      ],
      "execution_count": 15,
      "outputs": []
    },
    {
      "cell_type": "code",
      "metadata": {
        "id": "1Y3_rIAttKRV"
      },
      "source": [
        "(X_train,t_train),(X_test, t_test) = load_mnist(flatten = True, normalize = False)"
      ],
      "execution_count": 18,
      "outputs": []
    },
    {
      "cell_type": "code",
      "metadata": {
        "colab": {
          "base_uri": "https://localhost:8080/"
        },
        "id": "-ooKmTT7tjDs",
        "outputId": "df5329be-e37a-4503-e26e-54e50e56639d"
      },
      "source": [
        "print(X_train.shape)\n",
        "print(t_train.shape)\n",
        "print(X_test.shape)\n",
        "print(t_test.shape)"
      ],
      "execution_count": 19,
      "outputs": [
        {
          "output_type": "stream",
          "text": [
            "(60000, 784)\n",
            "(60000,)\n",
            "(10000, 784)\n",
            "(10000,)\n"
          ],
          "name": "stdout"
        }
      ]
    },
    {
      "cell_type": "code",
      "metadata": {
        "id": "RvsS8VartsUE"
      },
      "source": [
        "import sys, os\n",
        "sys.path.append(os.pardir)\n",
        "import numpy as np\n",
        "from dataset.mnist import load_mnist\n",
        "from PIL import Image\n",
        "import matplotlib.pyplot as plt\n",
        "import pickle\n",
        "from common.functions import sigmoid, softmax"
      ],
      "execution_count": 38,
      "outputs": []
    },
    {
      "cell_type": "code",
      "metadata": {
        "id": "LDss32IFuSeU"
      },
      "source": [
        "def img_show(img):\n",
        "    pil_img = Image.fromarray(np.uint8(img))\n",
        "    pil_img.show()"
      ],
      "execution_count": 28,
      "outputs": []
    },
    {
      "cell_type": "code",
      "metadata": {
        "id": "AyIsr5RruSh1"
      },
      "source": [
        "(X_train,t_train),(X_test, t_test) = load_mnist(flatten = True, normalize = False)"
      ],
      "execution_count": 22,
      "outputs": []
    },
    {
      "cell_type": "code",
      "metadata": {
        "colab": {
          "base_uri": "https://localhost:8080/"
        },
        "id": "_sIHrAQAuSmV",
        "outputId": "d8213e39-88bd-441c-f6ee-ef5c93b7542b"
      },
      "source": [
        "img = X_train[0]\n",
        "lable = t_train[0]\n",
        "print(lable)"
      ],
      "execution_count": 23,
      "outputs": [
        {
          "output_type": "stream",
          "text": [
            "5\n"
          ],
          "name": "stdout"
        }
      ]
    },
    {
      "cell_type": "code",
      "metadata": {
        "colab": {
          "base_uri": "https://localhost:8080/"
        },
        "id": "ryqCj6TGuStd",
        "outputId": "08938424-3460-492a-e9a8-e8103824f589"
      },
      "source": [
        "print(img.shape)\n",
        "img = img.reshape(28,28)\n",
        "print(img.shape)"
      ],
      "execution_count": 24,
      "outputs": [
        {
          "output_type": "stream",
          "text": [
            "(784,)\n",
            "(28, 28)\n"
          ],
          "name": "stdout"
        }
      ]
    },
    {
      "cell_type": "code",
      "metadata": {
        "id": "YyxHBT8qu-94"
      },
      "source": [
        "img_show(img)"
      ],
      "execution_count": 33,
      "outputs": []
    },
    {
      "cell_type": "code",
      "metadata": {
        "id": "p0l0bT9tu_A1"
      },
      "source": [
        "def get_data():\n",
        "    (X_train,t_train),(X_test, t_test) = load_mnist(flatten = True, normalize = False)\n",
        "    return X_test, t_test"
      ],
      "execution_count": 34,
      "outputs": []
    },
    {
      "cell_type": "code",
      "metadata": {
        "id": "CIPsH7mYu_Do"
      },
      "source": [
        "def init_network():\n",
        "    with open(\"ch03/sample_weight.pkl\",'rb') as f:\n",
        "        network = pickle.load(f)\n",
        "    return network"
      ],
      "execution_count": 41,
      "outputs": []
    },
    {
      "cell_type": "code",
      "metadata": {
        "id": "TXxbUzfaxU93"
      },
      "source": [
        "def predict(network, x):\n",
        "    W1, W2, W3 = network['W1'], network['W2'], network['W3']\n",
        "    b1, b2, b3 = network['b1'], network['b2'], network['b3']\n",
        "\n",
        "    a1 = np.dot(x, W1) + b1\n",
        "    z1 = sigmoid(a1)\n",
        "    a2 = np.dot(z1, W2) + b2\n",
        "    z2 = sigmoid(a2)\n",
        "    a3 = np.dot(z2, W3) + b3\n",
        "    y = softmax(a3)\n",
        "\n",
        "    return y"
      ],
      "execution_count": 39,
      "outputs": []
    },
    {
      "cell_type": "code",
      "metadata": {
        "colab": {
          "base_uri": "https://localhost:8080/"
        },
        "id": "wxDJQnpdxY2Z",
        "outputId": "9e1f3074-6763-4812-ff04-f4c11c792f1f"
      },
      "source": [
        "x,t = get_data()\n",
        "network = init_network()\n",
        "\n",
        "accuracy_cnt = 0\n",
        "for i in range(len(x)):\n",
        "    y = predict(network, x[i])\n",
        "    p = np.argmax(y)\n",
        "    if p ==t[i]:\n",
        "        accuracy_cnt += 1\n",
        "print(\"Accuracy:\" + str(float(accuracy_cnt) / len(x)))"
      ],
      "execution_count": 42,
      "outputs": [
        {
          "output_type": "stream",
          "text": [
            "/content/deep-learning-from-scratch/common/functions.py:14: RuntimeWarning: overflow encountered in exp\n",
            "  return 1 / (1 + np.exp(-x))\n"
          ],
          "name": "stderr"
        },
        {
          "output_type": "stream",
          "text": [
            "Accuracy:0.9207\n"
          ],
          "name": "stdout"
        }
      ]
    },
    {
      "cell_type": "markdown",
      "metadata": {
        "id": "MgdlU2Rjy2KX"
      },
      "source": [
        "# 배치 처리"
      ]
    },
    {
      "cell_type": "code",
      "metadata": {
        "id": "Fu-pKt04yJM8"
      },
      "source": [
        "x, _ = get_data()"
      ],
      "execution_count": 43,
      "outputs": []
    },
    {
      "cell_type": "code",
      "metadata": {
        "id": "u6eKeWvByy5S"
      },
      "source": [
        "network = init_network()"
      ],
      "execution_count": 44,
      "outputs": []
    },
    {
      "cell_type": "code",
      "metadata": {
        "id": "AKIesUELy4gl"
      },
      "source": [
        "W1, W2, W3 = network['W1'], network['W2'], network['W3']"
      ],
      "execution_count": 45,
      "outputs": []
    },
    {
      "cell_type": "code",
      "metadata": {
        "colab": {
          "base_uri": "https://localhost:8080/"
        },
        "id": "AIK-RppDzANm",
        "outputId": "ee758058-b083-4846-9b99-3067e4a08ec2"
      },
      "source": [
        "x.shape"
      ],
      "execution_count": 46,
      "outputs": [
        {
          "output_type": "execute_result",
          "data": {
            "text/plain": [
              "(10000, 784)"
            ]
          },
          "metadata": {
            "tags": []
          },
          "execution_count": 46
        }
      ]
    },
    {
      "cell_type": "code",
      "metadata": {
        "colab": {
          "base_uri": "https://localhost:8080/"
        },
        "id": "0pzP4ajjzIEr",
        "outputId": "a7d46302-7dc2-413d-8395-51ada4407d36"
      },
      "source": [
        "x[0].shape"
      ],
      "execution_count": 47,
      "outputs": [
        {
          "output_type": "execute_result",
          "data": {
            "text/plain": [
              "(784,)"
            ]
          },
          "metadata": {
            "tags": []
          },
          "execution_count": 47
        }
      ]
    },
    {
      "cell_type": "code",
      "metadata": {
        "colab": {
          "base_uri": "https://localhost:8080/"
        },
        "id": "oVs5F7QWzLFr",
        "outputId": "e20a63eb-a947-4e15-f01b-92cd3d1e24c7"
      },
      "source": [
        "W1.shape"
      ],
      "execution_count": 48,
      "outputs": [
        {
          "output_type": "execute_result",
          "data": {
            "text/plain": [
              "(784, 50)"
            ]
          },
          "metadata": {
            "tags": []
          },
          "execution_count": 48
        }
      ]
    },
    {
      "cell_type": "code",
      "metadata": {
        "colab": {
          "base_uri": "https://localhost:8080/"
        },
        "id": "lLqEv2GtzeO7",
        "outputId": "648ae7ff-5021-4adf-947a-965564b76187"
      },
      "source": [
        "W2.shape"
      ],
      "execution_count": 49,
      "outputs": [
        {
          "output_type": "execute_result",
          "data": {
            "text/plain": [
              "(50, 100)"
            ]
          },
          "metadata": {
            "tags": []
          },
          "execution_count": 49
        }
      ]
    },
    {
      "cell_type": "code",
      "metadata": {
        "colab": {
          "base_uri": "https://localhost:8080/"
        },
        "id": "9zNh0eQczeSI",
        "outputId": "b833272b-5e1c-4340-896a-a004d7d3b46a"
      },
      "source": [
        "W3.shape"
      ],
      "execution_count": 50,
      "outputs": [
        {
          "output_type": "execute_result",
          "data": {
            "text/plain": [
              "(100, 10)"
            ]
          },
          "metadata": {
            "tags": []
          },
          "execution_count": 50
        }
      ]
    },
    {
      "cell_type": "code",
      "metadata": {
        "colab": {
          "base_uri": "https://localhost:8080/"
        },
        "id": "FyhJaEcyzeVh",
        "outputId": "49f20389-9e9e-4ed6-b44a-7c343267ca9a"
      },
      "source": [
        "x,t = get_data()\n",
        "network = init_network()\n",
        "\n",
        "batch_size = 100\n",
        "accuracy_cnt = 0\n",
        "\n",
        "for i in range(0,len(x), batch_size):\n",
        "    x_batch = x[i:i+batch_size]\n",
        "    y_batch = predict(network, x_batch)\n",
        "    p = np.argmax(y_batch, axis = 1)\n",
        "    accuracy_cnt += np.sum(p == t[i:i+ batch_size])\n",
        "\n",
        "print(\"Accuracy:\" + str(float(accuracy_cnt) / len(x)))"
      ],
      "execution_count": 52,
      "outputs": [
        {
          "output_type": "stream",
          "text": [
            "Accuracy:0.9207\n"
          ],
          "name": "stdout"
        },
        {
          "output_type": "stream",
          "text": [
            "/content/deep-learning-from-scratch/common/functions.py:14: RuntimeWarning: overflow encountered in exp\n",
            "  return 1 / (1 + np.exp(-x))\n"
          ],
          "name": "stderr"
        }
      ]
    },
    {
      "cell_type": "code",
      "metadata": {
        "colab": {
          "base_uri": "https://localhost:8080/"
        },
        "id": "2qT6gw0nzeYd",
        "outputId": "640f3535-4461-4dea-c558-bad02b24d6f9"
      },
      "source": [
        "list(range(0,10))"
      ],
      "execution_count": 53,
      "outputs": [
        {
          "output_type": "execute_result",
          "data": {
            "text/plain": [
              "[0, 1, 2, 3, 4, 5, 6, 7, 8, 9]"
            ]
          },
          "metadata": {
            "tags": []
          },
          "execution_count": 53
        }
      ]
    },
    {
      "cell_type": "code",
      "metadata": {
        "colab": {
          "base_uri": "https://localhost:8080/"
        },
        "id": "nRTxKsEa0xoE",
        "outputId": "b5746c9b-2e2b-417a-c684-36b34a8d12db"
      },
      "source": [
        "list(range(0,10,3))"
      ],
      "execution_count": 54,
      "outputs": [
        {
          "output_type": "execute_result",
          "data": {
            "text/plain": [
              "[0, 3, 6, 9]"
            ]
          },
          "metadata": {
            "tags": []
          },
          "execution_count": 54
        }
      ]
    },
    {
      "cell_type": "code",
      "metadata": {
        "colab": {
          "base_uri": "https://localhost:8080/"
        },
        "id": "KT1n-0ej0yix",
        "outputId": "f1cde621-91f3-40e5-afee-062d69e0e35a"
      },
      "source": [
        "x = np.array([[0.1, 0.8, 0.1],\n",
        "              [0.3, 0.1, 0.6],\n",
        "              [0.2, 0.5, 0.3],\n",
        "              [0.8, 0.1, 0.1]])\n",
        "\n",
        "y = np.argmax(x, axis=1)\n",
        "y"
      ],
      "execution_count": 55,
      "outputs": [
        {
          "output_type": "execute_result",
          "data": {
            "text/plain": [
              "array([1, 2, 1, 0])"
            ]
          },
          "metadata": {
            "tags": []
          },
          "execution_count": 55
        }
      ]
    },
    {
      "cell_type": "code",
      "metadata": {
        "colab": {
          "base_uri": "https://localhost:8080/"
        },
        "id": "mfHKJC4d0y9A",
        "outputId": "c63cfd30-954f-4580-eca1-ff55f6f24346"
      },
      "source": [
        "y = np.array([1,2,1,0])\n",
        "t = np.array([1,2,0,0])\n",
        "print(y == t)"
      ],
      "execution_count": 56,
      "outputs": [
        {
          "output_type": "stream",
          "text": [
            "[ True  True False  True]\n"
          ],
          "name": "stdout"
        }
      ]
    },
    {
      "cell_type": "code",
      "metadata": {
        "colab": {
          "base_uri": "https://localhost:8080/"
        },
        "id": "AiuxPaVb0zAa",
        "outputId": "8a51797a-36a1-48fe-9822-ca814d64b833"
      },
      "source": [
        "np.sum(y == t)"
      ],
      "execution_count": 57,
      "outputs": [
        {
          "output_type": "execute_result",
          "data": {
            "text/plain": [
              "3"
            ]
          },
          "metadata": {
            "tags": []
          },
          "execution_count": 57
        }
      ]
    },
    {
      "cell_type": "code",
      "metadata": {
        "id": "yBlfYDMa1WY1"
      },
      "source": [
        ""
      ],
      "execution_count": null,
      "outputs": []
    },
    {
      "cell_type": "code",
      "metadata": {
        "id": "v8JdIXmI1WbI"
      },
      "source": [
        ""
      ],
      "execution_count": null,
      "outputs": []
    },
    {
      "cell_type": "code",
      "metadata": {
        "id": "d1vd01Dj1WgE"
      },
      "source": [
        ""
      ],
      "execution_count": null,
      "outputs": []
    }
  ]
}
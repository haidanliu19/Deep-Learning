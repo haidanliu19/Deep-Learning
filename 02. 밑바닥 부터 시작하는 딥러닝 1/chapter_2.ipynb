{
  "nbformat": 4,
  "nbformat_minor": 0,
  "metadata": {
    "colab": {
      "name": "chapter 2.ipynb",
      "provenance": [],
      "collapsed_sections": []
    },
    "kernelspec": {
      "name": "python3",
      "display_name": "Python 3"
    },
    "language_info": {
      "name": "python"
    }
  },
  "cells": [
    {
      "cell_type": "code",
      "metadata": {
        "colab": {
          "base_uri": "https://localhost:8080/"
        },
        "id": "9lJSCUWsnE1n",
        "outputId": "c8a85fa1-ea5a-48f1-fd01-c97761249d4c"
      },
      "source": [
        "def AND(x1,x2):\n",
        "    w1, w2, theta = 0.5, 0.6, 0.7\n",
        "    tmp = x1*w1 + x2* w2\n",
        "    if tmp <= theta:\n",
        "        return 0\n",
        "    elif tmp>theta:\n",
        "        return 1\n",
        "\n",
        "print(AND(0,0))\n",
        "print(AND(1,0))\n",
        "print(AND(0,1))\n",
        "print(AND(1,1))"
      ],
      "execution_count": 1,
      "outputs": [
        {
          "output_type": "stream",
          "text": [
            "0\n",
            "0\n",
            "0\n",
            "1\n"
          ],
          "name": "stdout"
        }
      ]
    },
    {
      "cell_type": "code",
      "metadata": {
        "colab": {
          "base_uri": "https://localhost:8080/"
        },
        "id": "GJRrKXANoIaF",
        "outputId": "6f65c088-19c7-4c0a-e906-66a42846c429"
      },
      "source": [
        "import numpy as np\n",
        "\n",
        "def AND(x1,x2):\n",
        "    x= np.array([x1,x2])\n",
        "    w = np.array([0.5, 0.5])\n",
        "    b = -0.7\n",
        "    tmp = np.sum(w * x) + b\n",
        "    if tmp <= 0:\n",
        "        return 0\n",
        "    else:\n",
        "        return 1\n",
        "\n",
        "print(AND(0,0))\n",
        "print(AND(1,0))\n",
        "print(AND(0,1))\n",
        "print(AND(1,1))"
      ],
      "execution_count": 3,
      "outputs": [
        {
          "output_type": "stream",
          "text": [
            "0\n",
            "0\n",
            "0\n",
            "1\n"
          ],
          "name": "stdout"
        }
      ]
    },
    {
      "cell_type": "code",
      "metadata": {
        "colab": {
          "base_uri": "https://localhost:8080/"
        },
        "id": "NEwrdJrGoIc8",
        "outputId": "1f4f7183-dbc6-45bc-9559-f7b7f745c554"
      },
      "source": [
        "def NAND(x1,x2):\n",
        "    x= np.array([x1,x2])\n",
        "    w = np.array([-0.5, -0.5])\n",
        "    b = 0.7\n",
        "    tmp = np.sum(w * x) + b\n",
        "    if tmp <= 0:\n",
        "        return 0\n",
        "    else:\n",
        "        return 1\n",
        "\n",
        "print(NAND(0,0))\n",
        "print(NAND(1,0))\n",
        "print(NAND(0,1))\n",
        "print(NAND(1,1))"
      ],
      "execution_count": 4,
      "outputs": [
        {
          "output_type": "stream",
          "text": [
            "1\n",
            "1\n",
            "1\n",
            "0\n"
          ],
          "name": "stdout"
        }
      ]
    },
    {
      "cell_type": "code",
      "metadata": {
        "colab": {
          "base_uri": "https://localhost:8080/"
        },
        "id": "lzacNNQjoIfw",
        "outputId": "917b6bd2-dd8d-4104-c5c7-1e1990fc1c23"
      },
      "source": [
        "def OR(x1,x2):\n",
        "    x= np.array([x1,x2])\n",
        "    w = np.array([0.5, 0.5])\n",
        "    b = -0.2\n",
        "    tmp = np.sum(w * x) + b\n",
        "    if tmp <= 0:\n",
        "        return 0\n",
        "    else:\n",
        "        return 1\n",
        "\n",
        "print(OR(0,0))\n",
        "print(OR(1,0))\n",
        "print(OR(0,1))\n",
        "print(OR(1,1))"
      ],
      "execution_count": 5,
      "outputs": [
        {
          "output_type": "stream",
          "text": [
            "0\n",
            "1\n",
            "1\n",
            "1\n"
          ],
          "name": "stdout"
        }
      ]
    },
    {
      "cell_type": "code",
      "metadata": {
        "colab": {
          "base_uri": "https://localhost:8080/"
        },
        "id": "30K9vCqbt3UF",
        "outputId": "8ea70b33-1f36-43ee-b757-6ea34b057696"
      },
      "source": [
        "def XOR(x1,x2):\n",
        "    s1 = NAND(x1, x2)\n",
        "    s2 = OR(x1, x2)\n",
        "    y = AND(x1, s2)\n",
        "    return y\n",
        "\n",
        "print(XOR(0,0))\n",
        "print(XOR(1,0))\n",
        "print(XOR(0,1))\n",
        "print(XOR(1,1))"
      ],
      "execution_count": 6,
      "outputs": [
        {
          "output_type": "stream",
          "text": [
            "0\n",
            "1\n",
            "0\n",
            "1\n"
          ],
          "name": "stdout"
        }
      ]
    }
  ]
}
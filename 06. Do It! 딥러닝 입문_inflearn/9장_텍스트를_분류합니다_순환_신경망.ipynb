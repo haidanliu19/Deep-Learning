{
  "nbformat": 4,
  "nbformat_minor": 0,
  "metadata": {
    "colab": {
      "name": "9장 텍스트를 분류합니다 - 순환 신경망",
      "provenance": [],
      "collapsed_sections": []
    },
    "kernelspec": {
      "name": "python3",
      "display_name": "Python 3"
    },
    "language_info": {
      "name": "python"
    }
  },
  "cells": [
    {
      "cell_type": "code",
      "source": [
        "import numpy as np\n",
        "from tensorflow.keras.datasets import imdb"
      ],
      "metadata": {
        "id": "OMitMP4j7oZy"
      },
      "execution_count": null,
      "outputs": []
    },
    {
      "cell_type": "code",
      "source": [
        "(X_train_all, y_train_all),(X_test, y_test) = imdb.load_data(skip_top = 20, num_words = 100)\n",
        "# 자주 사용하는 단어는 없앤다"
      ],
      "metadata": {
        "id": "9QSNTGhx_ob4"
      },
      "execution_count": 27,
      "outputs": []
    },
    {
      "cell_type": "code",
      "source": [
        "print(X_train_all.shape, y_train_all.shape)"
      ],
      "metadata": {
        "colab": {
          "base_uri": "https://localhost:8080/"
        },
        "id": "oPk6zGYXAI5A",
        "outputId": "46e0a20a-ffe6-4a06-e857-455e3cc7bd3c"
      },
      "execution_count": 28,
      "outputs": [
        {
          "output_type": "stream",
          "name": "stdout",
          "text": [
            "(25000,) (25000,)\n"
          ]
        }
      ]
    },
    {
      "cell_type": "code",
      "source": [
        "print(X_train_all[0])"
      ],
      "metadata": {
        "colab": {
          "base_uri": "https://localhost:8080/"
        },
        "id": "oH_gb0BEFY98",
        "outputId": "f38bf601-7878-41b7-e892-53ea1d758874"
      },
      "execution_count": 29,
      "outputs": [
        {
          "output_type": "stream",
          "name": "stdout",
          "text": [
            "[2, 2, 22, 2, 43, 2, 2, 2, 2, 65, 2, 2, 66, 2, 2, 2, 36, 2, 2, 25, 2, 43, 2, 2, 50, 2, 2, 2, 35, 2, 2, 2, 2, 2, 2, 2, 2, 2, 2, 2, 39, 2, 2, 2, 2, 2, 2, 38, 2, 2, 2, 2, 50, 2, 2, 2, 2, 2, 2, 22, 2, 2, 2, 2, 2, 22, 71, 87, 2, 2, 43, 2, 38, 76, 2, 2, 2, 2, 22, 2, 2, 2, 2, 2, 2, 2, 2, 2, 62, 2, 2, 2, 2, 2, 2, 2, 2, 2, 2, 2, 2, 66, 2, 33, 2, 2, 2, 2, 38, 2, 2, 25, 2, 51, 36, 2, 48, 25, 2, 33, 2, 22, 2, 2, 28, 77, 52, 2, 2, 2, 2, 82, 2, 2, 2, 2, 2, 2, 2, 2, 2, 2, 2, 2, 2, 2, 36, 71, 43, 2, 2, 26, 2, 2, 46, 2, 2, 2, 2, 2, 2, 88, 2, 2, 2, 2, 98, 32, 2, 56, 26, 2, 2, 2, 2, 2, 2, 2, 22, 21, 2, 2, 26, 2, 2, 2, 30, 2, 2, 51, 36, 28, 2, 92, 25, 2, 2, 2, 65, 2, 38, 2, 88, 2, 2, 2, 2, 2, 2, 2, 2, 32, 2, 2, 2, 2, 2, 32]\n"
          ]
        }
      ]
    },
    {
      "cell_type": "code",
      "source": [
        "import numpy as np\n",
        "\n",
        "np.random.seed(42)\n",
        "random_index = np.random.permutation(25000)\n",
        "\n",
        "X_train = X_train_all[random_index[:20000]]\n",
        "y_train = y_train_all[random_index[:20000]]\n",
        "X_val = X_train_all[random_index[20000:]]\n",
        "y_val = y_train_all[random_index[20000:]]"
      ],
      "metadata": {
        "id": "ZtxiGSVkCwbc"
      },
      "execution_count": 30,
      "outputs": []
    },
    {
      "cell_type": "code",
      "source": [
        "# 리뷰의 길이가 각자 달라서 길이를 맞추어준다.\n",
        "from tensorflow.keras.preprocessing import sequence\n",
        "\n",
        "max_len = 100\n",
        "# pad_sequences 왼쪽을 짜르고 모자란 부분을 0으로 채워주는 \n",
        "X_train_seq = sequence.pad_sequences(X_train, maxlen = max_len)\n",
        "X_val_seq = sequence.pad_sequences(X_val, maxlen = max_len)"
      ],
      "metadata": {
        "id": "_YRJGhptAOB2"
      },
      "execution_count": 31,
      "outputs": []
    },
    {
      "cell_type": "code",
      "source": [
        "X_train_seq.shape, X_val_seq.shape"
      ],
      "metadata": {
        "colab": {
          "base_uri": "https://localhost:8080/"
        },
        "id": "1BFjlGpYE7yR",
        "outputId": "583a757c-9b99-472d-e556-af5bba6521c3"
      },
      "execution_count": 32,
      "outputs": [
        {
          "output_type": "execute_result",
          "data": {
            "text/plain": [
              "((20000, 100), (5000, 100))"
            ]
          },
          "metadata": {},
          "execution_count": 32
        }
      ]
    },
    {
      "cell_type": "code",
      "source": [
        "print(X_train_seq[0])"
      ],
      "metadata": {
        "colab": {
          "base_uri": "https://localhost:8080/"
        },
        "id": "_Xm_x2I6FO-z",
        "outputId": "a3e9dde7-9461-4286-e321-6f8d9135618a"
      },
      "execution_count": 33,
      "outputs": [
        {
          "output_type": "stream",
          "name": "stdout",
          "text": [
            "[32  2  2  2  2  2  2  2  2  2  2  2 22  2  2 28  2  2  2  2  2  2  2  2\n",
            "  2  2 51 75  2 56  2  2  2  2  2  2  2  2  2  2 30  2  2  2 33  2  2  2\n",
            " 97  2  2  2 53  2  2  2  2 38  2  2  2  2  2  2  2  2 46  2  2  2  2  2\n",
            "  2  2  2  2 53 74  2 31  2 35 23  2  2 34  2  2  2  2  2 22  2  2  2  2\n",
            "  2  2 58  2]\n"
          ]
        }
      ]
    },
    {
      "cell_type": "code",
      "source": [
        "from tensorflow.keras.utils import to_categorical\n",
        "\n",
        "X_train_onehot = to_categorical(X_train_seq)\n",
        "X_val_onehot = to_categorical(X_val_seq)"
      ],
      "metadata": {
        "id": "ykAQ5n89DUL2"
      },
      "execution_count": 34,
      "outputs": []
    },
    {
      "cell_type": "code",
      "source": [
        "X_train_onehot.shape, X_val_onehot.shape"
      ],
      "metadata": {
        "colab": {
          "base_uri": "https://localhost:8080/"
        },
        "id": "VgFiyCDfE-9t",
        "outputId": "33f3d5bf-f69a-4e2c-af78-04349ad2bc22"
      },
      "execution_count": 35,
      "outputs": [
        {
          "output_type": "execute_result",
          "data": {
            "text/plain": [
              "((20000, 100, 100), (5000, 100, 100))"
            ]
          },
          "metadata": {},
          "execution_count": 35
        }
      ]
    },
    {
      "cell_type": "code",
      "source": [
        "from tensorflow.keras.models import Sequential\n",
        "from tensorflow.keras.layers import Dense, SimpleRNN\n",
        "\n",
        "model = Sequential()\n",
        "model.add(SimpleRNN(32, input_shape = (100, 100)))\n",
        "model.add(Dense(1, activation = 'sigmoid'))\n",
        "\n",
        "model.summary()"
      ],
      "metadata": {
        "colab": {
          "base_uri": "https://localhost:8080/"
        },
        "id": "7jX_Lw6LDekE",
        "outputId": "fc20d93a-04a3-49a8-de26-d2a6d8079aca"
      },
      "execution_count": 36,
      "outputs": [
        {
          "output_type": "stream",
          "name": "stdout",
          "text": [
            "Model: \"sequential_2\"\n",
            "_________________________________________________________________\n",
            " Layer (type)                Output Shape              Param #   \n",
            "=================================================================\n",
            " simple_rnn_2 (SimpleRNN)    (None, 32)                4256      \n",
            "                                                                 \n",
            " dense_2 (Dense)             (None, 1)                 33        \n",
            "                                                                 \n",
            "=================================================================\n",
            "Total params: 4,289\n",
            "Trainable params: 4,289\n",
            "Non-trainable params: 0\n",
            "_________________________________________________________________\n"
          ]
        }
      ]
    },
    {
      "cell_type": "code",
      "source": [
        "model.compile(optimizer ='sgd' , loss ='binary_crossentropy', metrics=['accuracy'])\n",
        "\n",
        "hisoty = model.fit(X_train_onehot, y_train, epochs = 20, batch_size = 32, \n",
        "                   validation_data = (X_val_onehot, y_val))"
      ],
      "metadata": {
        "colab": {
          "base_uri": "https://localhost:8080/"
        },
        "id": "qGbAbkXxEMFG",
        "outputId": "189f183c-9d8a-4918-b259-8e99f30ab664"
      },
      "execution_count": 37,
      "outputs": [
        {
          "output_type": "stream",
          "name": "stdout",
          "text": [
            "Epoch 1/20\n",
            "625/625 [==============================] - 22s 32ms/step - loss: 0.6962 - accuracy: 0.5085 - val_loss: 0.6943 - val_accuracy: 0.5188\n",
            "Epoch 2/20\n",
            "625/625 [==============================] - 14s 22ms/step - loss: 0.6932 - accuracy: 0.5182 - val_loss: 0.6932 - val_accuracy: 0.5188\n",
            "Epoch 3/20\n",
            "625/625 [==============================] - 21s 33ms/step - loss: 0.6916 - accuracy: 0.5250 - val_loss: 0.6924 - val_accuracy: 0.5278\n",
            "Epoch 4/20\n",
            "625/625 [==============================] - 21s 34ms/step - loss: 0.6911 - accuracy: 0.5236 - val_loss: 0.6928 - val_accuracy: 0.5210\n",
            "Epoch 5/20\n",
            "625/625 [==============================] - 20s 33ms/step - loss: 0.6904 - accuracy: 0.5265 - val_loss: 0.6953 - val_accuracy: 0.5134\n",
            "Epoch 6/20\n",
            "625/625 [==============================] - 14s 23ms/step - loss: 0.6897 - accuracy: 0.5314 - val_loss: 0.6912 - val_accuracy: 0.5250\n",
            "Epoch 7/20\n",
            "625/625 [==============================] - 13s 21ms/step - loss: 0.6886 - accuracy: 0.5383 - val_loss: 0.6888 - val_accuracy: 0.5446\n",
            "Epoch 8/20\n",
            "625/625 [==============================] - 13s 20ms/step - loss: 0.6872 - accuracy: 0.5419 - val_loss: 0.6958 - val_accuracy: 0.5114\n",
            "Epoch 9/20\n",
            "625/625 [==============================] - 13s 20ms/step - loss: 0.6869 - accuracy: 0.5405 - val_loss: 0.6900 - val_accuracy: 0.5324\n",
            "Epoch 10/20\n",
            "625/625 [==============================] - 13s 21ms/step - loss: 0.6859 - accuracy: 0.5457 - val_loss: 0.6871 - val_accuracy: 0.5474\n",
            "Epoch 11/20\n",
            "625/625 [==============================] - 13s 21ms/step - loss: 0.6846 - accuracy: 0.5497 - val_loss: 0.6875 - val_accuracy: 0.5428\n",
            "Epoch 12/20\n",
            "625/625 [==============================] - 14s 23ms/step - loss: 0.6839 - accuracy: 0.5541 - val_loss: 0.6837 - val_accuracy: 0.5548\n",
            "Epoch 13/20\n",
            "625/625 [==============================] - 20s 32ms/step - loss: 0.6820 - accuracy: 0.5563 - val_loss: 0.6942 - val_accuracy: 0.5264\n",
            "Epoch 14/20\n",
            "625/625 [==============================] - 13s 21ms/step - loss: 0.6805 - accuracy: 0.5599 - val_loss: 0.6877 - val_accuracy: 0.5394\n",
            "Epoch 15/20\n",
            "625/625 [==============================] - 13s 20ms/step - loss: 0.6775 - accuracy: 0.5660 - val_loss: 0.6829 - val_accuracy: 0.5562\n",
            "Epoch 16/20\n",
            "625/625 [==============================] - 14s 23ms/step - loss: 0.6758 - accuracy: 0.5723 - val_loss: 0.6783 - val_accuracy: 0.5760\n",
            "Epoch 17/20\n",
            "625/625 [==============================] - 13s 20ms/step - loss: 0.6799 - accuracy: 0.5713 - val_loss: 0.6746 - val_accuracy: 0.5912\n",
            "Epoch 18/20\n",
            "625/625 [==============================] - 13s 20ms/step - loss: 0.6752 - accuracy: 0.5792 - val_loss: 0.6685 - val_accuracy: 0.5940\n",
            "Epoch 19/20\n",
            "625/625 [==============================] - 13s 20ms/step - loss: 0.6730 - accuracy: 0.5810 - val_loss: 0.6716 - val_accuracy: 0.5888\n",
            "Epoch 20/20\n",
            "625/625 [==============================] - 13s 21ms/step - loss: 0.6715 - accuracy: 0.5821 - val_loss: 0.6719 - val_accuracy: 0.5880\n"
          ]
        }
      ]
    },
    {
      "cell_type": "code",
      "source": [
        "from tensorflow.keras.layers import Embedding\n",
        "\n",
        "model_emb = Sequential()\n",
        "model_emb.add(Embedding(1000, 32))\n",
        "model_emb.add(SimpleRNN(8))\n",
        "model_emb.add(Dense(1, activation = 'sigmoid'))\n",
        "\n",
        "model_emb.summary()"
      ],
      "metadata": {
        "colab": {
          "base_uri": "https://localhost:8080/"
        },
        "id": "Nmobml0-F45-",
        "outputId": "fae0e92c-69c6-406e-a99c-0ef33bdb44b4"
      },
      "execution_count": 38,
      "outputs": [
        {
          "output_type": "stream",
          "name": "stdout",
          "text": [
            "Model: \"sequential_3\"\n",
            "_________________________________________________________________\n",
            " Layer (type)                Output Shape              Param #   \n",
            "=================================================================\n",
            " embedding (Embedding)       (None, None, 32)          32000     \n",
            "                                                                 \n",
            " simple_rnn_3 (SimpleRNN)    (None, 8)                 328       \n",
            "                                                                 \n",
            " dense_3 (Dense)             (None, 1)                 9         \n",
            "                                                                 \n",
            "=================================================================\n",
            "Total params: 32,337\n",
            "Trainable params: 32,337\n",
            "Non-trainable params: 0\n",
            "_________________________________________________________________\n"
          ]
        }
      ]
    },
    {
      "cell_type": "code",
      "source": [
        "from tensorflow.keras.layers import LSTM\n",
        "\n",
        "model_lstm = Sequential()\n",
        "model_lstm.add(Embedding(1000, 32))\n",
        "model_lstm.add(LSTM(8))\n",
        "model_lstm.add(Dense(1, activation = 'sigmoid'))\n",
        "\n",
        "model_lstm.summary()"
      ],
      "metadata": {
        "colab": {
          "base_uri": "https://localhost:8080/"
        },
        "id": "HIW2Y-8_EnGO",
        "outputId": "2e8f6d40-e2df-4ad4-fca4-74c5ed184aad"
      },
      "execution_count": 39,
      "outputs": [
        {
          "output_type": "stream",
          "name": "stdout",
          "text": [
            "Model: \"sequential_4\"\n",
            "_________________________________________________________________\n",
            " Layer (type)                Output Shape              Param #   \n",
            "=================================================================\n",
            " embedding_1 (Embedding)     (None, None, 32)          32000     \n",
            "                                                                 \n",
            " lstm (LSTM)                 (None, 8)                 1312      \n",
            "                                                                 \n",
            " dense_4 (Dense)             (None, 1)                 9         \n",
            "                                                                 \n",
            "=================================================================\n",
            "Total params: 33,321\n",
            "Trainable params: 33,321\n",
            "Non-trainable params: 0\n",
            "_________________________________________________________________\n"
          ]
        }
      ]
    }
  ]
}
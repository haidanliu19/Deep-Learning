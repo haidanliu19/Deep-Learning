{
  "nbformat": 4,
  "nbformat_minor": 0,
  "metadata": {
    "colab": {
      "name": "9장 텍스트를 분류합니다 - 순환 신경망",
      "provenance": [],
      "collapsed_sections": []
    },
    "kernelspec": {
      "name": "python3",
      "display_name": "Python 3"
    },
    "language_info": {
      "name": "python"
    }
  },
  "cells": [
    {
      "cell_type": "code",
      "source": [
        "import numpy as np\n",
        "from tensorflow.keras.datasets import imdb"
      ],
      "metadata": {
        "id": "OMitMP4j7oZy"
      },
      "execution_count": 36,
      "outputs": []
    },
    {
      "cell_type": "code",
      "source": [
        "(X_train_all, y_train_all),(X_test, y_test) = imdb.load_data(skip_top = 20, num_words = 20)\n",
        "# 자주 사용하는 단어는 없앤다"
      ],
      "metadata": {
        "colab": {
          "base_uri": "https://localhost:8080/"
        },
        "id": "9QSNTGhx_ob4",
        "outputId": "8a117902-e9e3-4946-ed11-ab4dbcad62c8"
      },
      "execution_count": 37,
      "outputs": [
        {
          "output_type": "stream",
          "name": "stdout",
          "text": [
            "Downloading data from https://storage.googleapis.com/tensorflow/tf-keras-datasets/imdb.npz\n",
            "17465344/17464789 [==============================] - 0s 0us/step\n",
            "17473536/17464789 [==============================] - 0s 0us/step\n"
          ]
        }
      ]
    },
    {
      "cell_type": "code",
      "source": [
        "print(X_train_all.shape, y_train_all.shape)"
      ],
      "metadata": {
        "colab": {
          "base_uri": "https://localhost:8080/"
        },
        "id": "oPk6zGYXAI5A",
        "outputId": "41428580-d44e-4958-ee0a-97ae51c062b5"
      },
      "execution_count": 39,
      "outputs": [
        {
          "output_type": "stream",
          "name": "stdout",
          "text": [
            "(25000,) (25000,)\n"
          ]
        }
      ]
    },
    {
      "cell_type": "code",
      "source": [
        "import numpy as np\n",
        "\n",
        "np.random.seed(42)\n",
        "random_index = np.random.permutation(25000)\n",
        "\n",
        "x_train = X_train_all[random_index[:20000]]\n",
        "y_train = y_train_all[random_index[:20000]]\n",
        "x_val = X_train_all[random_index[20000:]]\n",
        "y_val = y_train_all[random_index[20000:]]"
      ],
      "metadata": {
        "id": "ZtxiGSVkCwbc"
      },
      "execution_count": 41,
      "outputs": []
    },
    {
      "cell_type": "code",
      "source": [
        "# 리뷰의 길이가 각자 달라서 길이를 맞추어준다.\n",
        "from tensorflow.keras.preprocessing import sequence\n",
        "\n",
        "max_len = 100\n",
        "# pad_sequences 왼쪽을 짜르고 모자란 부분을 0으로 채워주는 \n",
        "X_train_seq = sequence.pad_sequences(x_train, maxlen = max_len)\n",
        "X_val_seq = sequence.pad_sequences(x_val, maxlen = max_len)"
      ],
      "metadata": {
        "id": "_YRJGhptAOB2"
      },
      "execution_count": 44,
      "outputs": []
    },
    {
      "cell_type": "code",
      "source": [
        "from tensorflow.keras.utils import to_categorical\n",
        "\n",
        "x_train_onehot = to_categorical(X_train_seq)\n",
        "x_val_onehot = to_categorical(X_val_seq)"
      ],
      "metadata": {
        "id": "ykAQ5n89DUL2"
      },
      "execution_count": 45,
      "outputs": []
    },
    {
      "cell_type": "code",
      "source": [
        ""
      ],
      "metadata": {
        "id": "7jX_Lw6LDekE"
      },
      "execution_count": null,
      "outputs": []
    }
  ]
}
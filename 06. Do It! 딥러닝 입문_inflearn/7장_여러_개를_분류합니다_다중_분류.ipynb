{
  "nbformat": 4,
  "nbformat_minor": 0,
  "metadata": {
    "colab": {
      "name": "7장 여러 개를 분류합니다 - 다중 분류",
      "provenance": [],
      "collapsed_sections": []
    },
    "kernelspec": {
      "name": "python3",
      "display_name": "Python 3"
    },
    "language_info": {
      "name": "python"
    }
  },
  "cells": [
    {
      "cell_type": "code",
      "source": [
        "import tensorflow as tf"
      ],
      "metadata": {
        "id": "HRuTJgwZbZb-"
      },
      "execution_count": 1,
      "outputs": []
    },
    {
      "cell_type": "code",
      "source": [
        "(X_train_all, y_train_all) , (X_test, y_test) = tf.keras.datasets.fashion_mnist.load_data()"
      ],
      "metadata": {
        "colab": {
          "base_uri": "https://localhost:8080/"
        },
        "id": "scJjLD163-Oh",
        "outputId": "70009f55-df22-4c91-970d-1de51edc435f"
      },
      "execution_count": 2,
      "outputs": [
        {
          "output_type": "stream",
          "name": "stdout",
          "text": [
            "Downloading data from https://storage.googleapis.com/tensorflow/tf-keras-datasets/train-labels-idx1-ubyte.gz\n",
            "32768/29515 [=================================] - 0s 0us/step\n",
            "40960/29515 [=========================================] - 0s 0us/step\n",
            "Downloading data from https://storage.googleapis.com/tensorflow/tf-keras-datasets/train-images-idx3-ubyte.gz\n",
            "26427392/26421880 [==============================] - 0s 0us/step\n",
            "26435584/26421880 [==============================] - 0s 0us/step\n",
            "Downloading data from https://storage.googleapis.com/tensorflow/tf-keras-datasets/t10k-labels-idx1-ubyte.gz\n",
            "16384/5148 [===============================================================================================] - 0s 0us/step\n",
            "Downloading data from https://storage.googleapis.com/tensorflow/tf-keras-datasets/t10k-images-idx3-ubyte.gz\n",
            "4423680/4422102 [==============================] - 0s 0us/step\n",
            "4431872/4422102 [==============================] - 0s 0us/step\n"
          ]
        }
      ]
    },
    {
      "cell_type": "code",
      "source": [
        "X_train_all.shape, y_train_all.shape"
      ],
      "metadata": {
        "colab": {
          "base_uri": "https://localhost:8080/"
        },
        "id": "wg95o6OV4FgQ",
        "outputId": "76683796-e6dd-4cbd-deb7-0fe047e23fd1"
      },
      "execution_count": 3,
      "outputs": [
        {
          "output_type": "execute_result",
          "data": {
            "text/plain": [
              "((60000, 28, 28), (60000,))"
            ]
          },
          "metadata": {},
          "execution_count": 3
        }
      ]
    },
    {
      "cell_type": "code",
      "source": [
        "import matplotlib.pyplot as plt\n",
        "\n",
        "plt.imshow(X_train_all[0], cmap = 'gray')\n",
        "plt.show()"
      ],
      "metadata": {
        "colab": {
          "base_uri": "https://localhost:8080/",
          "height": 265
        },
        "id": "jEpa9gD_4JIP",
        "outputId": "62c0b26d-7afa-4b46-d0c9-7720e4c71894"
      },
      "execution_count": 4,
      "outputs": [
        {
          "output_type": "display_data",
          "data": {
            "image/png": "[encoded data removed]",
            "text/plain": [
              "<Figure size 432x288 with 1 Axes>"
            ]
          },
          "metadata": {
            "needs_background": "light"
          }
        }
      ]
    },
    {
      "cell_type": "code",
      "source": [
        "print(y_train_all[:10])"
      ],
      "metadata": {
        "colab": {
          "base_uri": "https://localhost:8080/"
        },
        "id": "9_v43xs_4RQD",
        "outputId": "8e2fe2d6-69ed-42ae-ce58-51cc4320d9a2"
      },
      "execution_count": 5,
      "outputs": [
        {
          "output_type": "stream",
          "name": "stdout",
          "text": [
            "[9 0 0 3 0 2 7 2 5 5]\n"
          ]
        }
      ]
    },
    {
      "cell_type": "code",
      "source": [
        "class_names = [\"T-shirt/top\",\"Trouser\",\"Pullover\",\"Dress\",\"Coat\",\n",
        "               \"Sandal\",\"Shirt\",\"Sneaker\",\"Bag\",\"Ankel boot\"]"
      ],
      "metadata": {
        "id": "nkYMVkx54UfW"
      },
      "execution_count": 6,
      "outputs": []
    },
    {
      "cell_type": "code",
      "source": [
        "print(class_names[y_train_all[0]])"
      ],
      "metadata": {
        "colab": {
          "base_uri": "https://localhost:8080/"
        },
        "id": "5hlZ8whI5FkT",
        "outputId": "277b7697-3a5d-4f88-f17e-aa94bdc5d6b7"
      },
      "execution_count": 7,
      "outputs": [
        {
          "output_type": "stream",
          "name": "stdout",
          "text": [
            "Ankel boot\n"
          ]
        }
      ]
    },
    {
      "cell_type": "code",
      "source": [
        "import numpy as np\n",
        "np.bincount(y_train_all)"
      ],
      "metadata": {
        "colab": {
          "base_uri": "https://localhost:8080/"
        },
        "id": "OsQBJCbC5K9F",
        "outputId": "fe360486-acfb-49ac-e2b6-74b6a90ff834"
      },
      "execution_count": 9,
      "outputs": [
        {
          "output_type": "execute_result",
          "data": {
            "text/plain": [
              "array([6000, 6000, 6000, 6000, 6000, 6000, 6000, 6000, 6000, 6000])"
            ]
          },
          "metadata": {},
          "execution_count": 9
        }
      ]
    },
    {
      "cell_type": "code",
      "source": [
        "from sklearn.model_selection import train_test_split\n",
        "\n",
        "X_train, X_val, y_train, y_val = train_test_split(X_train_all, y_train_all, stratify = y_train_all, test_size = 0.2, random_state = 42)"
      ],
      "metadata": {
        "id": "U7xi74_n5Ng2"
      },
      "execution_count": 11,
      "outputs": []
    },
    {
      "cell_type": "code",
      "source": [
        "np.bincount(y_train)"
      ],
      "metadata": {
        "colab": {
          "base_uri": "https://localhost:8080/"
        },
        "id": "WK2Iwed05g3f",
        "outputId": "7a8ad0d7-c144-44fc-c4f8-b0cf04f4bc51"
      },
      "execution_count": 12,
      "outputs": [
        {
          "output_type": "execute_result",
          "data": {
            "text/plain": [
              "array([4800, 4800, 4800, 4800, 4800, 4800, 4800, 4800, 4800, 4800])"
            ]
          },
          "metadata": {},
          "execution_count": 12
        }
      ]
    },
    {
      "cell_type": "code",
      "source": [
        "np.bincount(y_val)"
      ],
      "metadata": {
        "colab": {
          "base_uri": "https://localhost:8080/"
        },
        "id": "oj6iOdd55mW7",
        "outputId": "c633142d-9f32-43f7-d414-9080473f29c1"
      },
      "execution_count": 13,
      "outputs": [
        {
          "output_type": "execute_result",
          "data": {
            "text/plain": [
              "array([1200, 1200, 1200, 1200, 1200, 1200, 1200, 1200, 1200, 1200])"
            ]
          },
          "metadata": {},
          "execution_count": 13
        }
      ]
    },
    {
      "cell_type": "code",
      "source": [
        "X_train = X_train/ 255\n",
        "X_val = X_val /255"
      ],
      "metadata": {
        "id": "QD4ybFA55nTv"
      },
      "execution_count": 14,
      "outputs": []
    },
    {
      "cell_type": "code",
      "source": [
        "X_train = X_train.reshape(-1, 784)\n",
        "X_val = X_val.reshape(-1, 784)"
      ],
      "metadata": {
        "id": "9fzWp82F5ttP"
      },
      "execution_count": 15,
      "outputs": []
    },
    {
      "cell_type": "code",
      "source": [
        "X_train.shape, X_val.shape"
      ],
      "metadata": {
        "colab": {
          "base_uri": "https://localhost:8080/"
        },
        "id": "E-wqG3WR52Tl",
        "outputId": "5684b9a5-b37c-49bf-b54f-2231188a185c"
      },
      "execution_count": 16,
      "outputs": [
        {
          "output_type": "execute_result",
          "data": {
            "text/plain": [
              "((48000, 784), (12000, 784))"
            ]
          },
          "metadata": {},
          "execution_count": 16
        }
      ]
    },
    {
      "cell_type": "markdown",
      "source": [
        "## 타깃을 one-hot 인코딩으로 바꾸기"
      ],
      "metadata": {
        "id": "uhIKvkGz59Cb"
      }
    },
    {
      "cell_type": "code",
      "source": [
        "tf.keras.utils.to_categorical([0,1,3])"
      ],
      "metadata": {
        "colab": {
          "base_uri": "https://localhost:8080/"
        },
        "id": "YeXbc8gr5_dr",
        "outputId": "a44e845e-2523-4d9f-f707-a711ab1f209e"
      },
      "execution_count": 17,
      "outputs": [
        {
          "output_type": "execute_result",
          "data": {
            "text/plain": [
              "array([[1., 0., 0., 0.],\n",
              "       [0., 1., 0., 0.],\n",
              "       [0., 0., 0., 1.]], dtype=float32)"
            ]
          },
          "metadata": {},
          "execution_count": 17
        }
      ]
    },
    {
      "cell_type": "code",
      "source": [
        "y_train_encoded = tf.keras.utils.to_categorical(y_train)\n",
        "y_val_encoded = tf.keras.utils.to_categorical(y_val)"
      ],
      "metadata": {
        "id": "JPesSwwL53aO"
      },
      "execution_count": 18,
      "outputs": []
    },
    {
      "cell_type": "code",
      "source": [
        "y_train_encoded.shape, y_val_encoded.shape"
      ],
      "metadata": {
        "colab": {
          "base_uri": "https://localhost:8080/"
        },
        "id": "T7bg_3qZ6Knq",
        "outputId": "4c1815b9-88c8-46e6-d73e-c3e422ed984a"
      },
      "execution_count": 19,
      "outputs": [
        {
          "output_type": "execute_result",
          "data": {
            "text/plain": [
              "((48000, 10), (12000, 10))"
            ]
          },
          "metadata": {},
          "execution_count": 19
        }
      ]
    },
    {
      "cell_type": "code",
      "source": [
        "y_train[0], y_train_encoded[0]"
      ],
      "metadata": {
        "colab": {
          "base_uri": "https://localhost:8080/"
        },
        "id": "KhJGqeze6Mze",
        "outputId": "0425be31-507e-4713-a142-9a3367601717"
      },
      "execution_count": 20,
      "outputs": [
        {
          "output_type": "execute_result",
          "data": {
            "text/plain": [
              "(6, array([0., 0., 0., 0., 0., 0., 1., 0., 0., 0.], dtype=float32))"
            ]
          },
          "metadata": {},
          "execution_count": 20
        }
      ]
    },
    {
      "cell_type": "code",
      "source": [
        "from tensorflow.keras import Sequential\n",
        "from tensorflow.keras.layers import Dense"
      ],
      "metadata": {
        "id": "EF4marSC6hq9"
      },
      "execution_count": 21,
      "outputs": []
    },
    {
      "cell_type": "code",
      "source": [
        "model = Sequential()"
      ],
      "metadata": {
        "id": "ix8TkXg36pKH"
      },
      "execution_count": 22,
      "outputs": []
    },
    {
      "cell_type": "code",
      "source": [
        "model.add(Dense(100, activation = 'sigmoid', input_shape= (784, )))\n",
        "model.add(Dense(10, activation = 'softmax'))"
      ],
      "metadata": {
        "id": "z1VCehdQ6qlb"
      },
      "execution_count": 24,
      "outputs": []
    },
    {
      "cell_type": "code",
      "source": [
        "model.compile(optimizer='sgd', loss= 'categorical_crossentropy', metrics=['accuracy'])"
      ],
      "metadata": {
        "id": "uRkJf2ur64wD"
      },
      "execution_count": 25,
      "outputs": []
    },
    {
      "cell_type": "code",
      "source": [
        "history = model.fit(X_train, y_train_encoded, epochs = 40, \n",
        "                    validation_data= (X_val, y_val_encoded))"
      ],
      "metadata": {
        "colab": {
          "base_uri": "https://localhost:8080/"
        },
        "id": "TyOo9FWU7DLd",
        "outputId": "390dd99f-5055-40a7-ee95-ce2dd874f30f"
      },
      "execution_count": 28,
      "outputs": [
        {
          "output_type": "stream",
          "name": "stdout",
          "text": [
            "Epoch 1/40\n",
            "1500/1500 [==============================] - 7s 4ms/step - loss: 1.3854 - accuracy: 0.6377 - val_loss: 0.9716 - val_accuracy: 0.7223\n",
            "Epoch 2/40\n",
            "1500/1500 [==============================] - 7s 5ms/step - loss: 0.8481 - accuracy: 0.7410 - val_loss: 0.7532 - val_accuracy: 0.7608\n",
            "Epoch 3/40\n",
            "1500/1500 [==============================] - 6s 4ms/step - loss: 0.7140 - accuracy: 0.7641 - val_loss: 0.6643 - val_accuracy: 0.7788\n",
            "Epoch 4/40\n",
            "1500/1500 [==============================] - 5s 4ms/step - loss: 0.6473 - accuracy: 0.7811 - val_loss: 0.6123 - val_accuracy: 0.7908\n",
            "Epoch 5/40\n",
            "1500/1500 [==============================] - 5s 4ms/step - loss: 0.6042 - accuracy: 0.7942 - val_loss: 0.5762 - val_accuracy: 0.8037\n",
            "Epoch 6/40\n",
            "1500/1500 [==============================] - 5s 3ms/step - loss: 0.5734 - accuracy: 0.8039 - val_loss: 0.5483 - val_accuracy: 0.8121\n",
            "Epoch 7/40\n",
            "1500/1500 [==============================] - 6s 4ms/step - loss: 0.5502 - accuracy: 0.8116 - val_loss: 0.5288 - val_accuracy: 0.8172\n",
            "Epoch 8/40\n",
            "1500/1500 [==============================] - 6s 4ms/step - loss: 0.5319 - accuracy: 0.8171 - val_loss: 0.5131 - val_accuracy: 0.8224\n",
            "Epoch 9/40\n",
            "1500/1500 [==============================] - 6s 4ms/step - loss: 0.5172 - accuracy: 0.8224 - val_loss: 0.5000 - val_accuracy: 0.8267\n",
            "Epoch 10/40\n",
            "1500/1500 [==============================] - 5s 4ms/step - loss: 0.5052 - accuracy: 0.8258 - val_loss: 0.4886 - val_accuracy: 0.8283\n",
            "Epoch 11/40\n",
            "1500/1500 [==============================] - 6s 4ms/step - loss: 0.4948 - accuracy: 0.8294 - val_loss: 0.4785 - val_accuracy: 0.8332\n",
            "Epoch 12/40\n",
            "1500/1500 [==============================] - 6s 4ms/step - loss: 0.4864 - accuracy: 0.8311 - val_loss: 0.4715 - val_accuracy: 0.8351\n",
            "Epoch 13/40\n",
            "1500/1500 [==============================] - 6s 4ms/step - loss: 0.4788 - accuracy: 0.8331 - val_loss: 0.4635 - val_accuracy: 0.8385\n",
            "Epoch 14/40\n",
            "1500/1500 [==============================] - 6s 4ms/step - loss: 0.4720 - accuracy: 0.8355 - val_loss: 0.4578 - val_accuracy: 0.8397\n",
            "Epoch 15/40\n",
            "1500/1500 [==============================] - 5s 4ms/step - loss: 0.4655 - accuracy: 0.8376 - val_loss: 0.4512 - val_accuracy: 0.8422\n",
            "Epoch 16/40\n",
            "1500/1500 [==============================] - 6s 4ms/step - loss: 0.4601 - accuracy: 0.8398 - val_loss: 0.4470 - val_accuracy: 0.8428\n",
            "Epoch 17/40\n",
            "1500/1500 [==============================] - 6s 4ms/step - loss: 0.4550 - accuracy: 0.8409 - val_loss: 0.4443 - val_accuracy: 0.8457\n",
            "Epoch 18/40\n",
            "1500/1500 [==============================] - 6s 4ms/step - loss: 0.4504 - accuracy: 0.8427 - val_loss: 0.4379 - val_accuracy: 0.8456\n",
            "Epoch 19/40\n",
            "1500/1500 [==============================] - 6s 4ms/step - loss: 0.4458 - accuracy: 0.8443 - val_loss: 0.4361 - val_accuracy: 0.8460\n",
            "Epoch 20/40\n",
            "1500/1500 [==============================] - 6s 4ms/step - loss: 0.4418 - accuracy: 0.8451 - val_loss: 0.4341 - val_accuracy: 0.8468\n",
            "Epoch 21/40\n",
            "1500/1500 [==============================] - 7s 5ms/step - loss: 0.4378 - accuracy: 0.8472 - val_loss: 0.4311 - val_accuracy: 0.8478\n",
            "Epoch 22/40\n",
            "1500/1500 [==============================] - 7s 4ms/step - loss: 0.4342 - accuracy: 0.8475 - val_loss: 0.4239 - val_accuracy: 0.8510\n",
            "Epoch 23/40\n",
            "1500/1500 [==============================] - 7s 5ms/step - loss: 0.4311 - accuracy: 0.8488 - val_loss: 0.4208 - val_accuracy: 0.8525\n",
            "Epoch 24/40\n",
            "1500/1500 [==============================] - 6s 4ms/step - loss: 0.4279 - accuracy: 0.8495 - val_loss: 0.4186 - val_accuracy: 0.8532\n",
            "Epoch 25/40\n",
            "1500/1500 [==============================] - 6s 4ms/step - loss: 0.4246 - accuracy: 0.8511 - val_loss: 0.4166 - val_accuracy: 0.8525\n",
            "Epoch 26/40\n",
            "1500/1500 [==============================] - 6s 4ms/step - loss: 0.4218 - accuracy: 0.8516 - val_loss: 0.4134 - val_accuracy: 0.8555\n",
            "Epoch 27/40\n",
            "1500/1500 [==============================] - 7s 4ms/step - loss: 0.4190 - accuracy: 0.8520 - val_loss: 0.4139 - val_accuracy: 0.8547\n",
            "Epoch 28/40\n",
            "1500/1500 [==============================] - 6s 4ms/step - loss: 0.4165 - accuracy: 0.8538 - val_loss: 0.4090 - val_accuracy: 0.8561\n",
            "Epoch 29/40\n",
            "1500/1500 [==============================] - 6s 4ms/step - loss: 0.4138 - accuracy: 0.8544 - val_loss: 0.4064 - val_accuracy: 0.8583\n",
            "Epoch 30/40\n",
            "1500/1500 [==============================] - 6s 4ms/step - loss: 0.4114 - accuracy: 0.8554 - val_loss: 0.4046 - val_accuracy: 0.8580\n",
            "Epoch 31/40\n",
            "1500/1500 [==============================] - 6s 4ms/step - loss: 0.4091 - accuracy: 0.8560 - val_loss: 0.4032 - val_accuracy: 0.8594\n",
            "Epoch 32/40\n",
            "1500/1500 [==============================] - 6s 4ms/step - loss: 0.4068 - accuracy: 0.8562 - val_loss: 0.4012 - val_accuracy: 0.8590\n",
            "Epoch 33/40\n",
            "1500/1500 [==============================] - 6s 4ms/step - loss: 0.4044 - accuracy: 0.8579 - val_loss: 0.3993 - val_accuracy: 0.8602\n",
            "Epoch 34/40\n",
            "1500/1500 [==============================] - 6s 4ms/step - loss: 0.4024 - accuracy: 0.8591 - val_loss: 0.3997 - val_accuracy: 0.8608\n",
            "Epoch 35/40\n",
            "1500/1500 [==============================] - 6s 4ms/step - loss: 0.4002 - accuracy: 0.8593 - val_loss: 0.3960 - val_accuracy: 0.8602\n",
            "Epoch 36/40\n",
            "1500/1500 [==============================] - 6s 4ms/step - loss: 0.3983 - accuracy: 0.8601 - val_loss: 0.3951 - val_accuracy: 0.8610\n",
            "Epoch 37/40\n",
            "1500/1500 [==============================] - 6s 4ms/step - loss: 0.3963 - accuracy: 0.8601 - val_loss: 0.3929 - val_accuracy: 0.8624\n",
            "Epoch 38/40\n",
            "1500/1500 [==============================] - 6s 4ms/step - loss: 0.3944 - accuracy: 0.8605 - val_loss: 0.3916 - val_accuracy: 0.8632\n",
            "Epoch 39/40\n",
            "1500/1500 [==============================] - 6s 4ms/step - loss: 0.3924 - accuracy: 0.8619 - val_loss: 0.3906 - val_accuracy: 0.8624\n",
            "Epoch 40/40\n",
            "1500/1500 [==============================] - 6s 4ms/step - loss: 0.3908 - accuracy: 0.8621 - val_loss: 0.3886 - val_accuracy: 0.8637\n"
          ]
        }
      ]
    },
    {
      "cell_type": "code",
      "source": [
        "print(history.history.keys())"
      ],
      "metadata": {
        "colab": {
          "base_uri": "https://localhost:8080/"
        },
        "id": "kCFwJUqL7KIT",
        "outputId": "70b5400d-6574-45e3-d955-8c2de4d57dcd"
      },
      "execution_count": 29,
      "outputs": [
        {
          "output_type": "stream",
          "name": "stdout",
          "text": [
            "dict_keys(['loss', 'accuracy', 'val_loss', 'val_accuracy'])\n"
          ]
        }
      ]
    },
    {
      "cell_type": "code",
      "source": [
        "plt.plot(history.history['loss'])\n",
        "plt.plot(history.history['val_loss'])"
      ],
      "metadata": {
        "colab": {
          "base_uri": "https://localhost:8080/",
          "height": 284
        },
        "id": "mNuXYnJc7hh0",
        "outputId": "66146790-eb93-4377-bf6e-89668746e353"
      },
      "execution_count": 30,
      "outputs": [
        {
          "output_type": "execute_result",
          "data": {
            "text/plain": [
              "[<matplotlib.lines.Line2D at 0x7f9596336650>]"
            ]
          },
          "metadata": {},
          "execution_count": 30
        },
        {
          "output_type": "display_data",
          "data": {
            "image/png": "[encoded data removed]",
            "text/plain": [
              "<Figure size 432x288 with 1 Axes>"
            ]
          },
          "metadata": {
            "needs_background": "light"
          }
        }
      ]
    },
    {
      "cell_type": "code",
      "source": [
        "plt.plot(history.history['accuracy'])\n",
        "plt.plot(history.history['val_accuracy'])"
      ],
      "metadata": {
        "colab": {
          "base_uri": "https://localhost:8080/",
          "height": 284
        },
        "id": "9lPRzdin7mbz",
        "outputId": "9fd8b1e5-1711-4c91-8035-18a7be6b9edc"
      },
      "execution_count": 31,
      "outputs": [
        {
          "output_type": "execute_result",
          "data": {
            "text/plain": [
              "[<matplotlib.lines.Line2D at 0x7f959112d650>]"
            ]
          },
          "metadata": {},
          "execution_count": 31
        },
        {
          "output_type": "display_data",
          "data": {
            "image/png": "[encoded data removed]",
            "text/plain": [
              "<Figure size 432x288 with 1 Axes>"
            ]
          },
          "metadata": {
            "needs_background": "light"
          }
        }
      ]
    },
    {
      "cell_type": "code",
      "source": [
        ""
      ],
      "metadata": {
        "id": "OMitMP4j7oZy"
      },
      "execution_count": null,
      "outputs": []
    }
  ]
}
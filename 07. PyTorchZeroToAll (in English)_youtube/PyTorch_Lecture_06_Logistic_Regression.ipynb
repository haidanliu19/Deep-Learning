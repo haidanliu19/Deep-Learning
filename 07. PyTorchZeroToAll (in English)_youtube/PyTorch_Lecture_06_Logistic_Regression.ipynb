{
  "nbformat": 4,
  "nbformat_minor": 0,
  "metadata": {
    "colab": {
      "name": "PyTorch Lecture 06: Logistic Regression.ipynb",
      "provenance": [],
      "collapsed_sections": []
    },
    "kernelspec": {
      "name": "python3",
      "display_name": "Python 3"
    },
    "language_info": {
      "name": "python"
    }
  },
  "cells": [
    {
      "cell_type": "markdown",
      "source": [
        "[출처](https://www.youtube.com/watch?v=b4Vyma9wPHo&list=PLlMkM4tgfjnJ3I-dbhO9JTw7gNty6o_2m&index=3)"
      ],
      "metadata": {
        "id": "PdsPsKXmJSrj"
      }
    },
    {
      "cell_type": "code",
      "execution_count": 12,
      "metadata": {
        "id": "ReH206zfFgEH"
      },
      "outputs": [],
      "source": [
        "import numpy as np\n",
        "import matplotlib.pyplot as plt\n",
        "import torch\n",
        "from torch.autograd import Variable\n",
        "import torch.nn.functional as F"
      ]
    },
    {
      "cell_type": "code",
      "source": [
        "x_data = Variable(torch.Tensor([[1.0], [2.0], [3.0],[4.0]])) \n",
        "y_data = Variable(torch.Tensor([[0.], [0.], [1.], [1.]])) "
      ],
      "metadata": {
        "id": "Vf7x0EuTFojV"
      },
      "execution_count": 13,
      "outputs": []
    },
    {
      "cell_type": "code",
      "source": [
        "class Model(torch.nn.Module):\n",
        "    def __init__(self):\n",
        "        super(Model, self).__init__()\n",
        "        self.linear = torch.nn.Linear(1, 1)\n",
        "    def forward(self, x):\n",
        "        y_pred = F.sigmoid(self.linear(x))\n",
        "        return y_pred\n",
        "\n",
        "model = Model()"
      ],
      "metadata": {
        "id": "yUzbOM-69-he"
      },
      "execution_count": 14,
      "outputs": []
    },
    {
      "cell_type": "code",
      "source": [
        "criterion = torch.nn.BCELoss(size_average = True)\n",
        "optimizer = torch.optim.SGD(model.parameters(), lr = 0.01)"
      ],
      "metadata": {
        "colab": {
          "base_uri": "https://localhost:8080/"
        },
        "id": "nBFL04rzCGtp",
        "outputId": "4b741589-65f5-420a-bfed-c92447795024"
      },
      "execution_count": 15,
      "outputs": [
        {
          "output_type": "stream",
          "name": "stderr",
          "text": [
            "/usr/local/lib/python3.7/dist-packages/torch/nn/_reduction.py:42: UserWarning: size_average and reduce args will be deprecated, please use reduction='mean' instead.\n",
            "  warnings.warn(warning.format(ret))\n"
          ]
        }
      ]
    },
    {
      "cell_type": "code",
      "source": [
        "for epoch in range(100):\n",
        "    y_pred = model(x_data)\n",
        "    \n",
        "    loss = criterion(y_pred, y_data)\n",
        "    #print(epoch, loss.data[0])\n",
        "    print(epoch, loss.item())\n",
        "\n",
        "    optimizer.zero_grad()\n",
        "    loss.backward()\n",
        "    optimizer.step()"
      ],
      "metadata": {
        "colab": {
          "base_uri": "https://localhost:8080/"
        },
        "id": "nhq1a1AsF8Vb",
        "outputId": "d3f6d828-d6f6-462e-adfb-292ea12d2c42"
      },
      "execution_count": 18,
      "outputs": [
        {
          "output_type": "stream",
          "name": "stderr",
          "text": [
            "/usr/local/lib/python3.7/dist-packages/torch/nn/functional.py:1806: UserWarning: nn.functional.sigmoid is deprecated. Use torch.sigmoid instead.\n",
            "  warnings.warn(\"nn.functional.sigmoid is deprecated. Use torch.sigmoid instead.\")\n"
          ]
        },
        {
          "output_type": "stream",
          "name": "stdout",
          "text": [
            "0 0.7156760096549988\n",
            "1 0.7085264325141907\n",
            "2 0.7016458511352539\n",
            "3 0.6950256824493408\n",
            "4 0.6886574029922485\n",
            "5 0.6825326681137085\n",
            "6 0.6766431331634521\n",
            "7 0.6709805727005005\n",
            "8 0.6655369400978088\n",
            "9 0.6603044271469116\n",
            "10 0.6552752256393433\n",
            "11 0.6504418849945068\n",
            "12 0.6457968950271606\n",
            "13 0.641333281993866\n",
            "14 0.6370440125465393\n",
            "15 0.6329222321510315\n",
            "16 0.628961443901062\n",
            "17 0.6251553297042847\n",
            "18 0.621497631072998\n",
            "19 0.6179823875427246\n",
            "20 0.6146040558815002\n",
            "21 0.6113568544387817\n",
            "22 0.6082354187965393\n",
            "23 0.6052347421646118\n",
            "24 0.6023496985435486\n",
            "25 0.5995755195617676\n",
            "26 0.5969077348709106\n",
            "27 0.5943418741226196\n",
            "28 0.5918735861778259\n",
            "29 0.5894988179206848\n",
            "30 0.5872136950492859\n",
            "31 0.5850144624710083\n",
            "32 0.582897424697876\n",
            "33 0.5808593034744263\n",
            "34 0.5788964629173279\n",
            "35 0.5770061016082764\n",
            "36 0.5751848816871643\n",
            "37 0.5734300017356873\n",
            "38 0.5717387199401855\n",
            "39 0.5701082944869995\n",
            "40 0.5685361623764038\n",
            "41 0.5670198202133179\n",
            "42 0.5655570030212402\n",
            "43 0.5641455054283142\n",
            "44 0.5627830624580383\n",
            "45 0.561467707157135\n",
            "46 0.5601973533630371\n",
            "47 0.5589702129364014\n",
            "48 0.5577845573425293\n",
            "49 0.5566385388374329\n",
            "50 0.5555304288864136\n",
            "51 0.5544589161872864\n",
            "52 0.5534222722053528\n",
            "53 0.5524190664291382\n",
            "54 0.5514480471611023\n",
            "55 0.5505078434944153\n",
            "56 0.5495970845222473\n",
            "57 0.5487146973609924\n",
            "58 0.5478593707084656\n",
            "59 0.5470302104949951\n",
            "60 0.5462260246276855\n",
            "61 0.5454457998275757\n",
            "62 0.5446885228157043\n",
            "63 0.5439532995223999\n",
            "64 0.5432392954826355\n",
            "65 0.5425455570220947\n",
            "66 0.5418714880943298\n",
            "67 0.5412160754203796\n",
            "68 0.5405786037445068\n",
            "69 0.5399584770202637\n",
            "70 0.5393549203872681\n",
            "71 0.5387672781944275\n",
            "72 0.5381948947906494\n",
            "73 0.5376371741294861\n",
            "74 0.5370936989784241\n",
            "75 0.5365636944770813\n",
            "76 0.5360468029975891\n",
            "77 0.535542368888855\n",
            "78 0.5350499153137207\n",
            "79 0.5345690846443176\n",
            "80 0.5340994000434875\n",
            "81 0.533640444278717\n",
            "82 0.5331917405128479\n",
            "83 0.5327528715133667\n",
            "84 0.5323235988616943\n",
            "85 0.5319033861160278\n",
            "86 0.5314920544624329\n",
            "87 0.5310891270637512\n",
            "88 0.5306943655014038\n",
            "89 0.5303073525428772\n",
            "90 0.5299280285835266\n",
            "91 0.5295558571815491\n",
            "92 0.529190719127655\n",
            "93 0.5288323163986206\n",
            "94 0.5284803509712219\n",
            "95 0.5281345844268799\n",
            "96 0.5277948975563049\n",
            "97 0.5274609327316284\n",
            "98 0.527132511138916\n",
            "99 0.526809573173523\n"
          ]
        }
      ]
    },
    {
      "cell_type": "code",
      "source": [
        "hour_var = Variable(torch.Tensor([[1.0]]))\n",
        "print(1.0 , model(hour_var).data[0][0] >0.5)"
      ],
      "metadata": {
        "colab": {
          "base_uri": "https://localhost:8080/"
        },
        "id": "3-KYOEjUGXTX",
        "outputId": "2e82e782-9052-46c1-f99e-5c49c05d9c45"
      },
      "execution_count": 23,
      "outputs": [
        {
          "output_type": "stream",
          "name": "stdout",
          "text": [
            "1.0 tensor(False)\n"
          ]
        },
        {
          "output_type": "stream",
          "name": "stderr",
          "text": [
            "/usr/local/lib/python3.7/dist-packages/torch/nn/functional.py:1806: UserWarning: nn.functional.sigmoid is deprecated. Use torch.sigmoid instead.\n",
            "  warnings.warn(\"nn.functional.sigmoid is deprecated. Use torch.sigmoid instead.\")\n"
          ]
        }
      ]
    },
    {
      "cell_type": "code",
      "source": [
        "hour_var = Variable(torch.Tensor([[7.0]]))\n",
        "print(1.0 , model(hour_var).data[0][0]>0.5)"
      ],
      "metadata": {
        "colab": {
          "base_uri": "https://localhost:8080/"
        },
        "id": "3LZ1xOmVDcNS",
        "outputId": "de7af74f-dae7-4899-bf1a-75ad2912cba4"
      },
      "execution_count": 24,
      "outputs": [
        {
          "output_type": "stream",
          "name": "stdout",
          "text": [
            "1.0 tensor(True)\n"
          ]
        },
        {
          "output_type": "stream",
          "name": "stderr",
          "text": [
            "/usr/local/lib/python3.7/dist-packages/torch/nn/functional.py:1806: UserWarning: nn.functional.sigmoid is deprecated. Use torch.sigmoid instead.\n",
            "  warnings.warn(\"nn.functional.sigmoid is deprecated. Use torch.sigmoid instead.\")\n"
          ]
        }
      ]
    },
    {
      "cell_type": "code",
      "source": [
        ""
      ],
      "metadata": {
        "id": "WgwNtpk6ilrR"
      },
      "execution_count": null,
      "outputs": []
    }
  ]
}
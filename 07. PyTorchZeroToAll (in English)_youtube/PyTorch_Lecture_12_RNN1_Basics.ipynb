{
  "nbformat": 4,
  "nbformat_minor": 0,
  "metadata": {
    "colab": {
      "name": "PyTorch Lecture 12: RNN1 - Basics.ipynb",
      "provenance": [],
      "collapsed_sections": []
    },
    "kernelspec": {
      "name": "python3",
      "display_name": "Python 3"
    },
    "language_info": {
      "name": "python"
    }
  },
  "cells": [
    {
      "cell_type": "markdown",
      "source": [
        "[출처](https://www.youtube.com/watch?v=b4Vyma9wPHo&list=PLlMkM4tgfjnJ3I-dbhO9JTw7gNty6o_2m&index=3)"
      ],
      "metadata": {
        "id": "PdsPsKXmJSrj"
      }
    },
    {
      "cell_type": "code",
      "execution_count": null,
      "metadata": {
        "id": "ReH206zfFgEH"
      },
      "outputs": [],
      "source": [
        "dix2char = ['h','i','e','l','o']"
      ]
    },
    {
      "cell_type": "code",
      "source": [
        "x_data = [0, 1, 0, 2, 3, 3] # hihell\n",
        "one_hot_lookup = [[1, 0, 0, 0, 0],  # 0\n",
        "                  [0, 1, 0, 0, 0],  # 1\n",
        "                  [0, 0, 1, 0, 0],  # 2\n",
        "                  [0, 0, 0, 1, 0],  # 3\n",
        "                  [0, 0, 0, 0, 1]]  # 4"
      ],
      "metadata": {
        "id": "BJXZurs2N0i6"
      },
      "execution_count": null,
      "outputs": []
    },
    {
      "cell_type": "code",
      "source": [
        "y_data = [1, 0, 2, 3, 4, 4]\n",
        "x_one_hot = [one_hot_lookup[x] for x in x_data]"
      ],
      "metadata": {
        "id": "b9urvmvxQwTE"
      },
      "execution_count": null,
      "outputs": []
    },
    {
      "cell_type": "code",
      "source": [
        "from torch.autograd import Variable\n",
        "import torch\n",
        "\n",
        "\n",
        "inputs = Variable(torch.Tensor(x_one_hot))\n",
        "labels = Variable(torch.LongTensor(y_data))"
      ],
      "metadata": {
        "id": "xIsgXYf3ZxYo"
      },
      "execution_count": null,
      "outputs": []
    },
    {
      "cell_type": "code",
      "source": [
        "num_classes = 5\n",
        "input_size = 5  \n",
        "hidden_size = 5  \n",
        "batch_size = 1   \n",
        "sequence_length = 1 \n",
        "num_layers = 1  "
      ],
      "metadata": {
        "id": "6gkbnqL3Z9Sp"
      },
      "execution_count": null,
      "outputs": []
    },
    {
      "cell_type": "code",
      "source": [
        ""
      ],
      "metadata": {
        "id": "Xt7-6AijaE2M"
      },
      "execution_count": null,
      "outputs": []
    }
  ]
}
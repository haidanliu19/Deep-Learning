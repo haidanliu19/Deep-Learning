{
  "nbformat": 4,
  "nbformat_minor": 0,
  "metadata": {
    "colab": {
      "name": "PyTorch Lecture 09: Softmax Classifier.ipynb",
      "provenance": [],
      "collapsed_sections": []
    },
    "kernelspec": {
      "name": "python3",
      "display_name": "Python 3"
    },
    "language_info": {
      "name": "python"
    }
  },
  "cells": [
    {
      "cell_type": "markdown",
      "source": [
        "[출처](https://www.youtube.com/watch?v=b4Vyma9wPHo&list=PLlMkM4tgfjnJ3I-dbhO9JTw7gNty6o_2m&index=3)"
      ],
      "metadata": {
        "id": "PdsPsKXmJSrj"
      }
    },
    {
      "cell_type": "code",
      "execution_count": 9,
      "metadata": {
        "id": "ReH206zfFgEH"
      },
      "outputs": [],
      "source": [
        "import numpy as np\n",
        "from torch import nn\n",
        "import torch\n",
        "from torch.autograd import Variable"
      ]
    },
    {
      "cell_type": "code",
      "source": [
        "Y = np.array([1, 0, 0])"
      ],
      "metadata": {
        "id": "Ltyp9MU0lacd"
      },
      "execution_count": 2,
      "outputs": []
    },
    {
      "cell_type": "code",
      "source": [
        "Y_pred1 = np.array([0.7, 0.2, 0.1])\n",
        "Y_pred2 = np.array([0.1, 0.3, 0.6])"
      ],
      "metadata": {
        "id": "Vf7x0EuTFojV"
      },
      "execution_count": 3,
      "outputs": []
    },
    {
      "cell_type": "code",
      "source": [
        "print(np.sum(-Y * np.log(Y_pred1)))\n",
        "print(np.sum(-Y * np.log(Y_pred2)))"
      ],
      "metadata": {
        "colab": {
          "base_uri": "https://localhost:8080/"
        },
        "id": "yUzbOM-69-he",
        "outputId": "ba127de0-d133-4348-cb70-928341deb117"
      },
      "execution_count": 4,
      "outputs": [
        {
          "output_type": "stream",
          "name": "stdout",
          "text": [
            "0.35667494393873245\n",
            "2.3025850929940455\n"
          ]
        }
      ]
    },
    {
      "cell_type": "code",
      "source": [
        "loss = nn.CrossEntropyLoss()"
      ],
      "metadata": {
        "id": "nBFL04rzCGtp"
      },
      "execution_count": 15,
      "outputs": []
    },
    {
      "cell_type": "code",
      "source": [
        "Y = Variable(torch.LongTensor([0]), requires_grad = False)"
      ],
      "metadata": {
        "id": "nhq1a1AsF8Vb"
      },
      "execution_count": 14,
      "outputs": []
    },
    {
      "cell_type": "code",
      "source": [
        "Y_pred1 = Variable(torch.Tensor([[2.0, 1.0, 0.1]]))\n",
        "Y_pred2 = Variable(torch.Tensor([[0.5, 2.0, 0.3]]))"
      ],
      "metadata": {
        "id": "3-KYOEjUGXTX"
      },
      "execution_count": 18,
      "outputs": []
    },
    {
      "cell_type": "code",
      "source": [
        "l1 = loss(Y_pred1, Y)\n",
        "l2 = loss(Y_pred2, Y)"
      ],
      "metadata": {
        "id": "WgwNtpk6ilrR"
      },
      "execution_count": 19,
      "outputs": []
    },
    {
      "cell_type": "code",
      "source": [
        "print(l1.data)\n",
        "print(l2.data)"
      ],
      "metadata": {
        "colab": {
          "base_uri": "https://localhost:8080/"
        },
        "id": "sBZum5RxNQFz",
        "outputId": "6c4f2082-dfab-489a-8efc-af7c530ce990"
      },
      "execution_count": 20,
      "outputs": [
        {
          "output_type": "stream",
          "name": "stdout",
          "text": [
            "tensor(0.4170)\n",
            "tensor(1.8406)\n"
          ]
        }
      ]
    },
    {
      "cell_type": "code",
      "source": [
        ""
      ],
      "metadata": {
        "id": "BJXZurs2N0i6"
      },
      "execution_count": null,
      "outputs": []
    }
  ]
}
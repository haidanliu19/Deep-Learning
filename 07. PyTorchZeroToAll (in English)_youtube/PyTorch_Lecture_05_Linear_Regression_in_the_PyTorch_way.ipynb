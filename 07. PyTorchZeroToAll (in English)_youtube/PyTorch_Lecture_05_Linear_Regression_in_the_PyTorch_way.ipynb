{
  "nbformat": 4,
  "nbformat_minor": 0,
  "metadata": {
    "colab": {
      "name": "PyTorch Lecture 05: Linear Regression in the PyTorch way.ipynb",
      "provenance": [],
      "collapsed_sections": []
    },
    "kernelspec": {
      "name": "python3",
      "display_name": "Python 3"
    },
    "language_info": {
      "name": "python"
    }
  },
  "cells": [
    {
      "cell_type": "markdown",
      "source": [
        "[출처](https://www.youtube.com/watch?v=b4Vyma9wPHo&list=PLlMkM4tgfjnJ3I-dbhO9JTw7gNty6o_2m&index=3)"
      ],
      "metadata": {
        "id": "PdsPsKXmJSrj"
      }
    },
    {
      "cell_type": "code",
      "execution_count": 25,
      "metadata": {
        "id": "ReH206zfFgEH"
      },
      "outputs": [],
      "source": [
        "import numpy as np\n",
        "import matplotlib.pyplot as plt\n",
        "import torch\n",
        "from torch.autograd import Variable"
      ]
    },
    {
      "cell_type": "code",
      "source": [
        "x_data = torch.Tensor([[1.0], [2.0], [3.0]])\n",
        "y_data = torch.Tensor([[2.0], [4.0], [6.0]])\n",
        "\n",
        "w = Variable(torch.Tensor([1.0]), requires_grad = True) # Any random"
      ],
      "metadata": {
        "id": "Vf7x0EuTFojV"
      },
      "execution_count": 26,
      "outputs": []
    },
    {
      "cell_type": "code",
      "source": [
        "class Model(torch.nn.Module):\n",
        "    def __init__(self):\n",
        "        super(Model, self).__init__()\n",
        "        self.linear = torch.nn.Linear(1, 1)\n",
        "    def forward(self, x):\n",
        "        y_pred = self.linear(x)\n",
        "        return y_pred\n",
        "\n",
        "model = Model()"
      ],
      "metadata": {
        "id": "yUzbOM-69-he"
      },
      "execution_count": 27,
      "outputs": []
    },
    {
      "cell_type": "code",
      "source": [
        "criterion = torch.nn.MSELoss(size_average = False)\n",
        "optimizer = torch.optim.SGD(model.parameters(), lr = 0.01)"
      ],
      "metadata": {
        "colab": {
          "base_uri": "https://localhost:8080/"
        },
        "id": "nBFL04rzCGtp",
        "outputId": "9072876a-c576-41fc-b075-5acf2bc0c259"
      },
      "execution_count": 28,
      "outputs": [
        {
          "output_type": "stream",
          "name": "stderr",
          "text": [
            "/usr/local/lib/python3.7/dist-packages/torch/nn/_reduction.py:42: UserWarning: size_average and reduce args will be deprecated, please use reduction='sum' instead.\n",
            "  warnings.warn(warning.format(ret))\n"
          ]
        }
      ]
    },
    {
      "cell_type": "code",
      "source": [
        "for epoch in range(100):\n",
        "    y_pred = model(x_data)\n",
        "    \n",
        "    loss = criterion(y_pred, y_data)\n",
        "    #print(epoch, loss.data[0])\n",
        "    print(epoch, loss.item())\n",
        "\n",
        "    optimizer.zero_grad()\n",
        "    loss.backward()\n",
        "    optimizer.step()"
      ],
      "metadata": {
        "colab": {
          "base_uri": "https://localhost:8080/"
        },
        "id": "nhq1a1AsF8Vb",
        "outputId": "9593bf8b-1bd7-4adb-cdb5-1d61f35615c1"
      },
      "execution_count": 29,
      "outputs": [
        {
          "output_type": "stream",
          "name": "stdout",
          "text": [
            "0 34.44178771972656\n",
            "1 15.457246780395508\n",
            "2 7.0040740966796875\n",
            "3 3.239197254180908\n",
            "4 1.5614382028579712\n",
            "5 0.812832236289978\n",
            "6 0.4778817892074585\n",
            "7 0.3271041512489319\n",
            "8 0.2583385705947876\n",
            "9 0.22610609233379364\n",
            "10 0.21016019582748413\n",
            "11 0.2014879286289215\n",
            "12 0.19607652723789215\n",
            "13 0.19213837385177612\n",
            "14 0.18887828290462494\n",
            "15 0.18594181537628174\n",
            "16 0.1831708401441574\n",
            "17 0.18049433827400208\n",
            "18 0.17788073420524597\n",
            "19 0.17531564831733704\n",
            "20 0.1727922409772873\n",
            "21 0.17030692100524902\n",
            "22 0.1678588092327118\n",
            "23 0.1654459536075592\n",
            "24 0.1630680412054062\n",
            "25 0.16072462499141693\n",
            "26 0.15841461718082428\n",
            "27 0.15613801777362823\n",
            "28 0.15389394760131836\n",
            "29 0.1516823172569275\n",
            "30 0.14950238168239594\n",
            "31 0.14735384285449982\n",
            "32 0.1452360600233078\n",
            "33 0.14314880967140198\n",
            "34 0.14109164476394653\n",
            "35 0.13906389474868774\n",
            "36 0.13706541061401367\n",
            "37 0.13509541749954224\n",
            "38 0.1331539899110794\n",
            "39 0.13124042749404907\n",
            "40 0.12935425341129303\n",
            "41 0.12749513983726501\n",
            "42 0.12566286325454712\n",
            "43 0.12385696917772293\n",
            "44 0.12207674980163574\n",
            "45 0.12032241374254227\n",
            "46 0.11859320104122162\n",
            "47 0.11688890308141708\n",
            "48 0.11520910263061523\n",
            "49 0.11355333030223846\n",
            "50 0.1119212731719017\n",
            "51 0.11031273007392883\n",
            "52 0.10872755199670792\n",
            "53 0.10716471076011658\n",
            "54 0.10562475025653839\n",
            "55 0.10410667210817337\n",
            "56 0.10261064022779465\n",
            "57 0.10113602876663208\n",
            "58 0.09968240559101105\n",
            "59 0.09824977815151215\n",
            "60 0.09683792293071747\n",
            "61 0.09544612467288971\n",
            "62 0.09407436102628708\n",
            "63 0.0927223190665245\n",
            "64 0.09138993173837662\n",
            "65 0.09007646143436432\n",
            "66 0.08878177404403687\n",
            "67 0.08750586211681366\n",
            "68 0.08624841272830963\n",
            "69 0.08500887453556061\n",
            "70 0.0837869867682457\n",
            "71 0.08258295804262161\n",
            "72 0.0813959464430809\n",
            "73 0.08022637665271759\n",
            "74 0.07907333225011826\n",
            "75 0.07793697714805603\n",
            "76 0.0768168568611145\n",
            "77 0.07571280747652054\n",
            "78 0.07462470978498459\n",
            "79 0.07355231046676636\n",
            "80 0.07249521464109421\n",
            "81 0.07145322859287262\n",
            "82 0.07042643427848816\n",
            "83 0.06941433995962143\n",
            "84 0.06841674447059631\n",
            "85 0.06743347644805908\n",
            "86 0.066464364528656\n",
            "87 0.06550908833742142\n",
            "88 0.0645676776766777\n",
            "89 0.06363964080810547\n",
            "90 0.06272520124912262\n",
            "91 0.061823733150959015\n",
            "92 0.06093510240316391\n",
            "93 0.06005942448973656\n",
            "94 0.05919617787003517\n",
            "95 0.05834551528096199\n",
            "96 0.057506948709487915\n",
            "97 0.056680526584386826\n",
            "98 0.05586588382720947\n",
            "99 0.055063024163246155\n"
          ]
        }
      ]
    },
    {
      "cell_type": "code",
      "source": [
        "hour_var = Variable(torch.Tensor([[4.0]]))\n",
        "print(\"Prediction (after training)\",  4, model(hour_var).data[0][0].item())"
      ],
      "metadata": {
        "colab": {
          "base_uri": "https://localhost:8080/"
        },
        "id": "3-KYOEjUGXTX",
        "outputId": "a7b705dc-0dd8-4cfd-e9e7-4e2402849306"
      },
      "execution_count": 31,
      "outputs": [
        {
          "output_type": "stream",
          "name": "stdout",
          "text": [
            "Prediction (after training) 4 7.73025369644165\n"
          ]
        }
      ]
    },
    {
      "cell_type": "code",
      "source": [
        ""
      ],
      "metadata": {
        "id": "WgwNtpk6ilrR"
      },
      "execution_count": null,
      "outputs": []
    }
  ]
}
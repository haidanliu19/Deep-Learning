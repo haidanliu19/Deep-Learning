{
  "nbformat": 4,
  "nbformat_minor": 0,
  "metadata": {
    "colab": {
      "name": "LeNet-5 in Tensorflow Keras_mnist.ipynb",
      "provenance": [],
      "collapsed_sections": []
    },
    "kernelspec": {
      "name": "python3",
      "display_name": "Python 3"
    },
    "language_info": {
      "name": "python"
    },
    "accelerator": "GPU"
  },
  "cells": [
    {
      "cell_type": "code",
      "metadata": {
        "id": "9OvSLQ2Z5wg6"
      },
      "source": [
        "from keras.datasets import mnist\n",
        "from tensorflow.keras.utils import to_categorical\n",
        "from keras.layers import *\n",
        "from keras.models import *\n",
        "import matplotlib.pyplot as plt"
      ],
      "execution_count": 1,
      "outputs": []
    },
    {
      "cell_type": "code",
      "metadata": {
        "colab": {
          "base_uri": "https://localhost:8080/"
        },
        "id": "YUgq3bqS59NT",
        "outputId": "e94fa8cb-c180-4711-d192-423fc1966c81"
      },
      "source": [
        "(X_train,y_train),(X_test, y_test) = mnist.load_data()\n",
        "X_train.shape, y_train.shape,X_test.shape, y_test.shape"
      ],
      "execution_count": 2,
      "outputs": [
        {
          "output_type": "stream",
          "text": [
            "Downloading data from https://storage.googleapis.com/tensorflow/tf-keras-datasets/mnist.npz\n",
            "11493376/11490434 [==============================] - 0s 0us/step\n",
            "11501568/11490434 [==============================] - 0s 0us/step\n"
          ],
          "name": "stdout"
        },
        {
          "output_type": "execute_result",
          "data": {
            "text/plain": [
              "((60000, 28, 28), (60000,), (10000, 28, 28), (10000,))"
            ]
          },
          "metadata": {},
          "execution_count": 2
        }
      ]
    },
    {
      "cell_type": "code",
      "metadata": {
        "colab": {
          "base_uri": "https://localhost:8080/",
          "height": 292
        },
        "id": "MBhIcjJo59WK",
        "outputId": "919c360d-7fd0-49d4-ba36-831a52aca7fd"
      },
      "source": [
        "plt.matshow(X_train[2], cmap ='gray')\n",
        "plt.show()\n",
        "print(y_train[2])"
      ],
      "execution_count": 3,
      "outputs": [
        {
          "output_type": "display_data",
          "data": {
            "image/png": "[encoded data removed]",
            "text/plain": [
              "<Figure size 288x288 with 1 Axes>"
            ]
          },
          "metadata": {
            "needs_background": "light"
          }
        },
        {
          "output_type": "stream",
          "text": [
            "4\n"
          ],
          "name": "stdout"
        }
      ]
    },
    {
      "cell_type": "code",
      "metadata": {
        "colab": {
          "base_uri": "https://localhost:8080/"
        },
        "id": "bemeU7Q76jkf",
        "outputId": "9f8b9fd5-0c29-4651-dbb4-200b3c631243"
      },
      "source": [
        "X_train = X_train.reshape(60000,28,28,1)\n",
        "X_train = X_train.astype('float') /255\n",
        "\n",
        "print(\"Before\")\n",
        "print(y_train.shape)\n",
        "print(y_train[0])\n",
        "\n",
        "y_train = to_categorical(y_train)\n",
        "\n",
        "print(\"After\")\n",
        "print(y_train.shape)\n",
        "print(y_train[0])"
      ],
      "execution_count": 4,
      "outputs": [
        {
          "output_type": "stream",
          "text": [
            "Before\n",
            "(60000,)\n",
            "5\n",
            "After\n",
            "(60000, 10)\n",
            "[0. 0. 0. 0. 0. 1. 0. 0. 0. 0.]\n"
          ],
          "name": "stdout"
        }
      ]
    },
    {
      "cell_type": "code",
      "metadata": {
        "id": "rbKcUNj97Jpq"
      },
      "source": [
        "model = Sequential()\n",
        "model.add(Conv2D(filters=6, kernel_size=5, strides=1, activation='sigmoid', input_shape=(28,28,1)))\n",
        "model.add(MaxPooling2D(pool_size=2, strides=2))\n",
        "\n",
        "model.add(Conv2D(filters=16, kernel_size=5, strides=1, activation='sigmoid', input_shape=(14,14,1)))\n",
        "model.add(MaxPooling2D(pool_size=2, strides=2))\n",
        "\n",
        "model.add(Flatten())\n",
        "\n",
        "model.add(Dense(units=120, activation='sigmoid'))\n",
        "model.add(Dense(units=84, activation='sigmoid'))\n",
        "model.add(Dense(units=10, activation='softmax'))\n",
        "model.compile(optimizer ='adam', loss='categorical_crossentropy', metrics=['accuracy'])"
      ],
      "execution_count": 5,
      "outputs": []
    },
    {
      "cell_type": "code",
      "metadata": {
        "colab": {
          "base_uri": "https://localhost:8080/"
        },
        "id": "ZZNbeept78zu",
        "outputId": "14388bdd-5462-4692-d1b0-75bf9dd7c2bb"
      },
      "source": [
        "model.summary()"
      ],
      "execution_count": 6,
      "outputs": [
        {
          "output_type": "stream",
          "text": [
            "Model: \"sequential\"\n",
            "_________________________________________________________________\n",
            "Layer (type)                 Output Shape              Param #   \n",
            "=================================================================\n",
            "conv2d (Conv2D)              (None, 24, 24, 6)         156       \n",
            "_________________________________________________________________\n",
            "max_pooling2d (MaxPooling2D) (None, 12, 12, 6)         0         \n",
            "_________________________________________________________________\n",
            "conv2d_1 (Conv2D)            (None, 8, 8, 16)          2416      \n",
            "_________________________________________________________________\n",
            "max_pooling2d_1 (MaxPooling2 (None, 4, 4, 16)          0         \n",
            "_________________________________________________________________\n",
            "flatten (Flatten)            (None, 256)               0         \n",
            "_________________________________________________________________\n",
            "dense (Dense)                (None, 120)               30840     \n",
            "_________________________________________________________________\n",
            "dense_1 (Dense)              (None, 84)                10164     \n",
            "_________________________________________________________________\n",
            "dense_2 (Dense)              (None, 10)                850       \n",
            "=================================================================\n",
            "Total params: 44,426\n",
            "Trainable params: 44,426\n",
            "Non-trainable params: 0\n",
            "_________________________________________________________________\n"
          ],
          "name": "stdout"
        }
      ]
    },
    {
      "cell_type": "code",
      "metadata": {
        "colab": {
          "base_uri": "https://localhost:8080/"
        },
        "id": "dqOddrKA7-y_",
        "outputId": "8ad98ce0-22e1-4667-97af-2ddcc221a30a"
      },
      "source": [
        "model.fit(X_train, y_train , epochs=8, batch_size=10, validation_split=0.2)"
      ],
      "execution_count": 7,
      "outputs": [
        {
          "output_type": "stream",
          "text": [
            "Epoch 1/8\n",
            "4800/4800 [==============================] - 46s 3ms/step - loss: 0.5368 - accuracy: 0.8253 - val_loss: 0.1282 - val_accuracy: 0.9596\n",
            "Epoch 2/8\n",
            "4800/4800 [==============================] - 15s 3ms/step - loss: 0.1092 - accuracy: 0.9664 - val_loss: 0.0969 - val_accuracy: 0.9705\n",
            "Epoch 3/8\n",
            "4800/4800 [==============================] - 14s 3ms/step - loss: 0.0773 - accuracy: 0.9760 - val_loss: 0.0781 - val_accuracy: 0.9758\n",
            "Epoch 4/8\n",
            "4800/4800 [==============================] - 14s 3ms/step - loss: 0.0624 - accuracy: 0.9810 - val_loss: 0.0692 - val_accuracy: 0.9780\n",
            "Epoch 5/8\n",
            "4800/4800 [==============================] - 14s 3ms/step - loss: 0.0509 - accuracy: 0.9838 - val_loss: 0.0741 - val_accuracy: 0.9787\n",
            "Epoch 6/8\n",
            "4800/4800 [==============================] - 14s 3ms/step - loss: 0.0441 - accuracy: 0.9860 - val_loss: 0.0592 - val_accuracy: 0.9824\n",
            "Epoch 7/8\n",
            "4800/4800 [==============================] - 14s 3ms/step - loss: 0.0374 - accuracy: 0.9882 - val_loss: 0.0667 - val_accuracy: 0.9803\n",
            "Epoch 8/8\n",
            "4800/4800 [==============================] - 15s 3ms/step - loss: 0.0330 - accuracy: 0.9895 - val_loss: 0.0525 - val_accuracy: 0.9848\n"
          ],
          "name": "stdout"
        },
        {
          "output_type": "execute_result",
          "data": {
            "text/plain": [
              "<keras.callbacks.History at 0x7f500046a510>"
            ]
          },
          "metadata": {},
          "execution_count": 7
        }
      ]
    },
    {
      "cell_type": "code",
      "metadata": {
        "id": "94oeu1Ig8Fzh"
      },
      "source": [
        ""
      ],
      "execution_count": 7,
      "outputs": []
    }
  ]
}
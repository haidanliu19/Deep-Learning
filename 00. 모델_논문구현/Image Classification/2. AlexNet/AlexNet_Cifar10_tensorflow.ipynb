{
 "cells": [
  {
   "cell_type": "code",
   "execution_count": 1,
   "metadata": {},
   "outputs": [],
   "source": [
    "from tensorflow.keras.datasets.cifar10 import load_data\n",
    "import numpy as np\n",
    "\n",
    "import tensorflow as tf\n",
    "from tensorflow.keras.utils import to_categorical\n",
    "from tensorflow.keras.layers import Conv2D,Dense,Flatten,Input,MaxPooling2D,Dropout\n",
    "from tensorflow.keras import Model\n",
    "from tensorflow.keras.optimizers import SGD\n",
    "import cv2\n",
    "import os"
   ]
  },
  {
   "cell_type": "code",
   "execution_count": 2,
   "metadata": {},
   "outputs": [],
   "source": [
    "os.environ[\"CUDA_VISIBLE_DEVICES\"] = \"0\""
   ]
  },
  {
   "cell_type": "code",
   "execution_count": 3,
   "metadata": {},
   "outputs": [],
   "source": [
    "(X_train, y_train), (X_test, y_test) = load_data()"
   ]
  },
  {
   "cell_type": "code",
   "execution_count": 4,
   "metadata": {},
   "outputs": [
    {
     "data": {
      "text/plain": [
       "((50000, 32, 32, 3), (50000, 1), (10000, 32, 32, 3), (10000, 1))"
      ]
     },
     "execution_count": 4,
     "metadata": {},
     "output_type": "execute_result"
    }
   ],
   "source": [
    "X_train.shape, y_train.shape, X_test.shape, y_test.shape"
   ]
  },
  {
   "cell_type": "code",
   "execution_count": 5,
   "metadata": {},
   "outputs": [
    {
     "data": {
      "text/plain": [
       "(255, 0)"
      ]
     },
     "execution_count": 5,
     "metadata": {},
     "output_type": "execute_result"
    }
   ],
   "source": [
    "np.max(X_train[0]), np.min(X_train[0])"
   ]
  },
  {
   "cell_type": "code",
   "execution_count": 6,
   "metadata": {},
   "outputs": [],
   "source": [
    "X_train = X_train / 255.0\n",
    "X_test = X_test/ 255.0"
   ]
  },
  {
   "cell_type": "code",
   "execution_count": 7,
   "metadata": {},
   "outputs": [
    {
     "data": {
      "text/plain": [
       "(1.0, 0.0)"
      ]
     },
     "execution_count": 7,
     "metadata": {},
     "output_type": "execute_result"
    }
   ],
   "source": [
    "np.max(X_train[0]), np.min(X_train[0])"
   ]
  },
  {
   "cell_type": "code",
   "execution_count": 8,
   "metadata": {},
   "outputs": [],
   "source": [
    "num_classes = len(np.unique(y_test))\n",
    "y_train = to_categorical(y_train, num_classes)\n",
    "y_test = to_categorical(y_test, num_classes)"
   ]
  },
  {
   "cell_type": "code",
   "execution_count": 9,
   "metadata": {},
   "outputs": [
    {
     "data": {
      "text/plain": [
       "((50000, 32, 32, 3), (50000, 10), (10000, 32, 32, 3), (10000, 10))"
      ]
     },
     "execution_count": 9,
     "metadata": {},
     "output_type": "execute_result"
    }
   ],
   "source": [
    "X_train.shape, y_train.shape, X_test.shape, y_test.shape"
   ]
  },
  {
   "cell_type": "code",
   "execution_count": 10,
   "metadata": {},
   "outputs": [],
   "source": [
    "x_train = np.array([cv2.resize(img, (224, 224), interpolation=cv2.INTER_CUBIC) for img in X_train])\n",
    "x_test = np.array([cv2.resize(img, (224, 224), interpolation=cv2.INTER_CUBIC) for img in X_test])"
   ]
  },
  {
   "cell_type": "code",
   "execution_count": 11,
   "metadata": {},
   "outputs": [
    {
     "data": {
      "text/plain": [
       "((50000, 224, 224, 3), (50000, 10), (10000, 224, 224, 3), (10000, 10))"
      ]
     },
     "execution_count": 11,
     "metadata": {},
     "output_type": "execute_result"
    }
   ],
   "source": [
    "x_train.shape, y_train.shape, x_test.shape, y_test.shape"
   ]
  },
  {
   "cell_type": "code",
   "execution_count": 12,
   "metadata": {},
   "outputs": [
    {
     "data": {
      "text/plain": [
       "(224, 224, 3)"
      ]
     },
     "execution_count": 12,
     "metadata": {},
     "output_type": "execute_result"
    }
   ],
   "source": [
    "x_train.shape[1:]"
   ]
  },
  {
   "cell_type": "code",
   "execution_count": 13,
   "metadata": {},
   "outputs": [
    {
     "name": "stdout",
     "output_type": "stream",
     "text": [
      "Model: \"model\"\n",
      "_________________________________________________________________\n",
      "Layer (type)                 Output Shape              Param #   \n",
      "=================================================================\n",
      "input_1 (InputLayer)         [(None, 224, 224, 3)]     0         \n",
      "_________________________________________________________________\n",
      "conv2d (Conv2D)              (None, 56, 56, 96)        34944     \n",
      "_________________________________________________________________\n",
      "max_pooling2d (MaxPooling2D) (None, 28, 28, 96)        0         \n",
      "_________________________________________________________________\n",
      "conv2d_1 (Conv2D)            (None, 28, 28, 256)       614656    \n",
      "_________________________________________________________________\n",
      "max_pooling2d_1 (MaxPooling2 (None, 14, 14, 256)       0         \n",
      "_________________________________________________________________\n",
      "conv2d_2 (Conv2D)            (None, 14, 14, 384)       885120    \n",
      "_________________________________________________________________\n",
      "conv2d_3 (Conv2D)            (None, 14, 14, 384)       1327488   \n",
      "_________________________________________________________________\n",
      "max_pooling2d_2 (MaxPooling2 (None, 7, 7, 384)         0         \n",
      "_________________________________________________________________\n",
      "conv2d_4 (Conv2D)            (None, 7, 7, 256)         884992    \n",
      "_________________________________________________________________\n",
      "flatten (Flatten)            (None, 12544)             0         \n",
      "_________________________________________________________________\n",
      "dense (Dense)                (None, 4096)              51384320  \n",
      "_________________________________________________________________\n",
      "dense_1 (Dense)              (None, 4096)              16781312  \n",
      "_________________________________________________________________\n",
      "dense_2 (Dense)              (None, 1000)              4097000   \n",
      "=================================================================\n",
      "Total params: 76,009,832\n",
      "Trainable params: 76,009,832\n",
      "Non-trainable params: 0\n",
      "_________________________________________________________________\n"
     ]
    }
   ],
   "source": [
    "# input 224*224*3\n",
    "image_input = Input(shape = (224,224,3))\n",
    "x = Conv2D(96, kernel_size= (11,11), strides=4, padding='same',  activation = 'relu')(image_input)#55, 55, 96\n",
    "x = MaxPooling2D((2,2))(x) #27, 27, 96\n",
    "x = Conv2D(256, kernel_size= (5,5), strides=1, padding='SAME',  activation = 'relu')(x) #27, 27, 256\n",
    "x = MaxPooling2D((2,2))(x) #13, 13, 256\n",
    "x = Conv2D(192*2, kernel_size= (3,3), strides=1, padding='SAME',  activation = 'relu')(x) #13, 13, 384\n",
    "x = Conv2D(192*2, kernel_size= (3,3), strides=1, padding='SAME',  activation = 'relu')(x) #13, 13, 384\n",
    "x = MaxPooling2D((2,2))(x) #6, 6, 256\n",
    "x = Conv2D(128*2, kernel_size= (3,3), strides=1, padding='SAME',  activation = 'relu')(x) #13, 13, 256\n",
    "x = Flatten()(x)\n",
    "x= Dense(4096, activation = 'relu')(x)\n",
    "x= Dense(4096, activation = 'relu')(x)\n",
    "output = Dense(1000, activation = 'softmax')(x)\n",
    "model = Model(image_input, output)\n",
    "\n",
    "model.summary()"
   ]
  },
  {
   "cell_type": "code",
   "execution_count": 17,
   "metadata": {},
   "outputs": [
    {
     "name": "stdout",
     "output_type": "stream",
     "text": [
      "Model: \"model_2\"\n",
      "_________________________________________________________________\n",
      "Layer (type)                 Output Shape              Param #   \n",
      "=================================================================\n",
      "input_3 (InputLayer)         [(None, 224, 224, 3)]     0         \n",
      "_________________________________________________________________\n",
      "conv2d_10 (Conv2D)           (None, 56, 56, 96)        34944     \n",
      "_________________________________________________________________\n",
      "max_pooling2d_6 (MaxPooling2 (None, 28, 28, 96)        0         \n",
      "_________________________________________________________________\n",
      "conv2d_11 (Conv2D)           (None, 28, 28, 256)       614656    \n",
      "_________________________________________________________________\n",
      "max_pooling2d_7 (MaxPooling2 (None, 14, 14, 256)       0         \n",
      "_________________________________________________________________\n",
      "conv2d_12 (Conv2D)           (None, 14, 14, 384)       885120    \n",
      "_________________________________________________________________\n",
      "conv2d_13 (Conv2D)           (None, 14, 14, 384)       1327488   \n",
      "_________________________________________________________________\n",
      "max_pooling2d_8 (MaxPooling2 (None, 7, 7, 384)         0         \n",
      "_________________________________________________________________\n",
      "conv2d_14 (Conv2D)           (None, 7, 7, 256)         884992    \n",
      "_________________________________________________________________\n",
      "flatten_2 (Flatten)          (None, 12544)             0         \n",
      "_________________________________________________________________\n",
      "dense_6 (Dense)              (None, 4096)              51384320  \n",
      "_________________________________________________________________\n",
      "dropout_2 (Dropout)          (None, 4096)              0         \n",
      "_________________________________________________________________\n",
      "dense_7 (Dense)              (None, 4096)              16781312  \n",
      "_________________________________________________________________\n",
      "dropout_3 (Dropout)          (None, 4096)              0         \n",
      "_________________________________________________________________\n",
      "dense_8 (Dense)              (None, 10)                40970     \n",
      "=================================================================\n",
      "Total params: 71,953,802\n",
      "Trainable params: 71,953,802\n",
      "Non-trainable params: 0\n",
      "_________________________________________________________________\n"
     ]
    }
   ],
   "source": [
    "def AlexNetModel():\n",
    "    image_input = Input(shape = x_train.shape[1:])\n",
    "    x = Conv2D(96, kernel_size= (11,11), strides=4, padding='same',  activation = 'relu')(image_input)#55, 55, 96\n",
    "    x = MaxPooling2D((2,2))(x) #27, 27, 96\n",
    "    x = Conv2D(256, kernel_size= (5,5), strides=1, padding='SAME',  activation = 'relu')(x) #27, 27, 256\n",
    "    x = MaxPooling2D((2,2))(x) #13, 13, 256\n",
    "    x = Conv2D(192*2, kernel_size= (3,3), strides=1, padding='SAME',  activation = 'relu')(x) #13, 13, 384\n",
    "    x = Conv2D(192*2, kernel_size= (3,3), strides=1, padding='SAME',  activation = 'relu')(x) #13, 13, 384\n",
    "    x = MaxPooling2D((2,2))(x) #6, 6, 256\n",
    "    x = Conv2D(128*2, kernel_size= (3,3), strides=1, padding='SAME',  activation = 'relu')(x) #13, 13, 256\n",
    "    x = Flatten()(x)\n",
    "    x= Dense(4096, activation = 'relu')(x)\n",
    "    x = Dropout(0.5)(x)\n",
    "    x= Dense(4096, activation = 'relu')(x)\n",
    "    x = Dropout(0.5)(x)\n",
    "    output = Dense(10, activation = 'softmax')(x)\n",
    "    model = Model(image_input, output)\n",
    "    \n",
    "    return model\n",
    "\n",
    "model = AlexNetModel()\n",
    "model.summary()"
   ]
  },
  {
   "cell_type": "code",
   "execution_count": 18,
   "metadata": {},
   "outputs": [],
   "source": [
    "sgd = SGD(momentum = 0.9, decay = 0.0005)\n",
    "model.compile(optimizer=sgd,loss='categorical_crossentropy',metrics=['accuracy'])"
   ]
  },
  {
   "cell_type": "code",
   "execution_count": 19,
   "metadata": {},
   "outputs": [
    {
     "name": "stdout",
     "output_type": "stream",
     "text": [
      "Epoch 1/10\n",
      "391/391 [==============================] - 939s 2s/step - loss: 1.9257 - accuracy: 0.2914 - val_loss: 1.6327 - val_accuracy: 0.4045\n",
      "Epoch 2/10\n",
      "391/391 [==============================] - 940s 2s/step - loss: 1.4348 - accuracy: 0.4786 - val_loss: 1.2061 - val_accuracy: 0.5643\n",
      "Epoch 3/10\n",
      "391/391 [==============================] - 940s 2s/step - loss: 1.1785 - accuracy: 0.5766 - val_loss: 1.0526 - val_accuracy: 0.6293\n",
      "Epoch 4/10\n",
      "391/391 [==============================] - 940s 2s/step - loss: 1.0000 - accuracy: 0.6468 - val_loss: 0.9024 - val_accuracy: 0.6809\n",
      "Epoch 5/10\n",
      "391/391 [==============================] - 942s 2s/step - loss: 0.8345 - accuracy: 0.7063 - val_loss: 0.8214 - val_accuracy: 0.7130\n",
      "Epoch 6/10\n",
      "391/391 [==============================] - 942s 2s/step - loss: 0.7066 - accuracy: 0.7536 - val_loss: 0.7590 - val_accuracy: 0.7410\n",
      "Epoch 7/10\n",
      "391/391 [==============================] - 944s 2s/step - loss: 0.6046 - accuracy: 0.7891 - val_loss: 0.6968 - val_accuracy: 0.7598\n",
      "Epoch 8/10\n",
      "391/391 [==============================] - 948s 2s/step - loss: 0.5044 - accuracy: 0.8240 - val_loss: 0.6987 - val_accuracy: 0.7660\n",
      "Epoch 9/10\n",
      "391/391 [==============================] - 949s 2s/step - loss: 0.4238 - accuracy: 0.8519 - val_loss: 0.6964 - val_accuracy: 0.7750\n",
      "Epoch 10/10\n",
      "391/391 [==============================] - 954s 2s/step - loss: 0.3380 - accuracy: 0.8822 - val_loss: 0.7215 - val_accuracy: 0.7720\n"
     ]
    }
   ],
   "source": [
    "result = model.fit(x_train,y_train, epochs=10, batch_size = 128,validation_data=(x_test, y_test), verbose=1)"
   ]
  },
  {
   "cell_type": "code",
   "execution_count": 28,
   "metadata": {},
   "outputs": [
    {
     "data": {
      "image/png": "[encoded data removed]",
      "text/plain": [
       "<Figure size 432x288 with 2 Axes>"
      ]
     },
     "metadata": {
      "needs_background": "light"
     },
     "output_type": "display_data"
    }
   ],
   "source": [
    "import matplotlib.pyplot as plt\n",
    "fig, loss_ax = plt.subplots()\n",
    "\n",
    "acc_ax = loss_ax.twinx()\n",
    "\n",
    "loss_ax.plot(result.history['loss'], 'y', label='train loss')\n",
    "loss_ax.plot(result.history['val_loss'], 'r', label='val loss')\n",
    "\n",
    "acc_ax.plot(result.history['accuracy'], 'b', label='train acc')\n",
    "acc_ax.plot(result.history['val_accuracy'], 'g', label='val acc')\n",
    "\n",
    "loss_ax.set_xlabel('epoch')\n",
    "loss_ax.set_ylabel('loss')\n",
    "acc_ax.set_ylabel('accuray')\n",
    "\n",
    "loss_ax.legend(loc='upper left')\n",
    "acc_ax.legend(loc='lower left')\n",
    "\n",
    "plt.show()"
   ]
  },
  {
   "cell_type": "code",
   "execution_count": null,
   "metadata": {},
   "outputs": [],
   "source": []
  }
 ],
 "metadata": {
  "kernelspec": {
   "display_name": "Python 3",
   "language": "python",
   "name": "python3"
  },
  "language_info": {
   "codemirror_mode": {
    "name": "ipython",
    "version": 3
   },
   "file_extension": ".py",
   "mimetype": "text/x-python",
   "name": "python",
   "nbconvert_exporter": "python",
   "pygments_lexer": "ipython3",
   "version": "3.6.9"
  }
 },
 "nbformat": 4,
 "nbformat_minor": 4
}
